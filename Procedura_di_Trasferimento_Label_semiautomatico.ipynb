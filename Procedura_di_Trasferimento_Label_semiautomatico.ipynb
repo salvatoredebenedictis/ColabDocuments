{
  "nbformat": 4,
  "nbformat_minor": 0,
  "metadata": {
    "colab": {
      "provenance": [],
      "authorship_tag": "ABX9TyN1jLfgT38c7SzlWptTJybr",
      "include_colab_link": true
    },
    "kernelspec": {
      "name": "python3",
      "display_name": "Python 3"
    },
    "language_info": {
      "name": "python"
    }
  },
  "cells": [
    {
      "cell_type": "markdown",
      "metadata": {
        "id": "view-in-github",
        "colab_type": "text"
      },
      "source": [
        "<a href=\"https://colab.research.google.com/github/salvatoredebenedictis/ColabDocuments/blob/main/Procedura_di_Trasferimento_Label_semiautomatico.ipynb\" target=\"_parent\"><img src=\"https://colab.research.google.com/assets/colab-badge.svg\" alt=\"Open In Colab\"/></a>"
      ]
    },
    {
      "cell_type": "markdown",
      "source": [
        "#**Procedura semiautomatica per il trasferimento delle etichette da immagini a fumetti a immagini originali**"
      ],
      "metadata": {
        "id": "FtN8gP_pIk8z"
      }
    },
    {
      "cell_type": "markdown",
      "source": [
        "Questa procedura prende in input un dataset creato da roboflow (si assume che siano immagini di fumetti)"
      ],
      "metadata": {
        "id": "HmEspHOlJ2Zb"
      }
    },
    {
      "cell_type": "markdown",
      "source": [
        "## ***Import Librerie***"
      ],
      "metadata": {
        "id": "sASRzKdILSph"
      }
    },
    {
      "cell_type": "code",
      "execution_count": null,
      "metadata": {
        "colab": {
          "base_uri": "https://localhost:8080/"
        },
        "id": "La9EfS1lIVfD",
        "outputId": "326ccc6c-5113-4c88-c2ce-7566ea70c644"
      },
      "outputs": [
        {
          "output_type": "stream",
          "name": "stdout",
          "text": [
            "\u001b[K     |████████████████████████████████| 145 kB 5.0 MB/s \n",
            "\u001b[K     |████████████████████████████████| 178 kB 44.5 MB/s \n",
            "\u001b[K     |████████████████████████████████| 1.1 MB 31.9 MB/s \n",
            "\u001b[K     |████████████████████████████████| 67 kB 1.9 MB/s \n",
            "\u001b[K     |████████████████████████████████| 54 kB 1.9 MB/s \n",
            "\u001b[K     |████████████████████████████████| 138 kB 35.2 MB/s \n",
            "\u001b[K     |████████████████████████████████| 62 kB 1.1 MB/s \n",
            "\u001b[?25h  Building wheel for roboflow (setup.py) ... \u001b[?25l\u001b[?25hdone\n",
            "  Building wheel for wget (setup.py) ... \u001b[?25l\u001b[?25hdone\n"
          ]
        }
      ],
      "source": [
        "%pip install -q roboflow\n",
        "from google.colab.patches import cv2_imshow\n",
        "from google.colab import files\n",
        "from roboflow import Roboflow\n",
        "import cv2\n",
        "import numpy as np\n",
        "import shutil\n",
        "import os"
      ]
    },
    {
      "cell_type": "markdown",
      "source": [
        "## ***1.Caricamento del dataset a Fumetti***"
      ],
      "metadata": {
        "id": "80i-iyYdLVdi"
      }
    },
    {
      "cell_type": "code",
      "source": [
        "rf = Roboflow(model_format=\"yolov5\", notebook=\"ultralytics\")"
      ],
      "metadata": {
        "colab": {
          "base_uri": "https://localhost:8080/"
        },
        "id": "4bTk8v8KL0xz",
        "outputId": "2596ef12-350c-48f0-af43-6d81c7c55bb0"
      },
      "execution_count": null,
      "outputs": [
        {
          "output_type": "stream",
          "name": "stdout",
          "text": [
            "upload and label your dataset, and get an API KEY here: https://app.roboflow.com/?model=yolov5&ref=ultralytics\n"
          ]
        }
      ]
    },
    {
      "cell_type": "code",
      "source": [
        "# set up environment\n",
        "os.environ[\"DATASET_DIRECTORY\"] = \"/content/datasets\""
      ],
      "metadata": {
        "id": "9iHg2hKAL4dM"
      },
      "execution_count": null,
      "outputs": []
    },
    {
      "cell_type": "markdown",
      "source": [
        "copiare il frammento di codice contenente le coordinate del dataset suggerito da Roboflow nel momento in cui si esporta il dataset"
      ],
      "metadata": {
        "id": "RhMgy-jwMjmd"
      }
    },
    {
      "cell_type": "code",
      "source": [
        "rf = Roboflow(api_key=\"N7iUcDJYn60rIDtGcdtk\")\n",
        "project = rf.workspace(\"salvatore-de-benedictis\").project(\"procedurafumettiadaptivethreshold\")\n",
        "dataset = project.version(1).download(\"yolov5\")"
      ],
      "metadata": {
        "colab": {
          "base_uri": "https://localhost:8080/"
        },
        "id": "xLxTIh5EL5N5",
        "outputId": "4098a0b4-f3e5-4a4d-8d46-e1dfeaa1cb8a"
      },
      "execution_count": null,
      "outputs": [
        {
          "output_type": "stream",
          "name": "stdout",
          "text": [
            "loading Roboflow workspace...\n",
            "loading Roboflow project...\n",
            "Downloading Dataset Version Zip in /content/datasets/ProceduraFumettiAdaptiveThreshold-1 to yolov5pytorch: 100% [5153220 / 5153220] bytes\n"
          ]
        },
        {
          "output_type": "stream",
          "name": "stderr",
          "text": [
            "Extracting Dataset Version Zip to /content/datasets/ProceduraFumettiAdaptiveThreshold-1 in yolov5pytorch:: 100%|██████████| 412/412 [00:00<00:00, 1083.70it/s]\n"
          ]
        }
      ]
    },
    {
      "cell_type": "markdown",
      "source": [
        "creiamo una copia del dataset"
      ],
      "metadata": {
        "id": "pvqi0G4hV0Qq"
      }
    },
    {
      "cell_type": "code",
      "source": [
        "source_dir = r\"/content/datasets/\"\n",
        "destination_dir = r\"/content/datasetOutput\"\n",
        "shutil.copytree(source_dir, destination_dir)"
      ],
      "metadata": {
        "colab": {
          "base_uri": "https://localhost:8080/",
          "height": 35
        },
        "id": "2AZpMjTDULqk",
        "outputId": "fdbcafb3-74db-4fc9-ae51-476b27c00065"
      },
      "execution_count": null,
      "outputs": [
        {
          "output_type": "execute_result",
          "data": {
            "text/plain": [
              "'/content/datasetOutput'"
            ],
            "application/vnd.google.colaboratory.intrinsic+json": {
              "type": "string"
            }
          },
          "metadata": {},
          "execution_count": 5
        }
      ]
    },
    {
      "cell_type": "markdown",
      "source": [
        "## ***2.Caricamento delle immagini originali***"
      ],
      "metadata": {
        "id": "ju8giZu_WDXP"
      }
    },
    {
      "cell_type": "markdown",
      "source": [
        "Funzione per il caricamento delle immagini originali (non fumetizzate)"
      ],
      "metadata": {
        "id": "H4UeJvdoWeBA"
      }
    },
    {
      "cell_type": "code",
      "source": [
        "def read_file(filename):\n",
        "  img = cv2.imread(filename)\n",
        "  return img"
      ],
      "metadata": {
        "id": "9OWa_mGLWUqw"
      },
      "execution_count": null,
      "outputs": []
    },
    {
      "cell_type": "markdown",
      "source": [
        "Caricamento delle immagini originali (non fumetizzate). Si assume che le immagini che si stanno caricando siano numerate progressivamente in modo tale da facilitare il trasferimento delle label"
      ],
      "metadata": {
        "id": "aIb3hwVIrEPT"
      }
    },
    {
      "cell_type": "code",
      "source": [
        "# Se non esiste la cartella delle immagini, creiamola\n",
        "if not os.path.exists(\"input_images/\" ):\n",
        "    os.makedirs(\"input_images/\" )\n",
        "\n",
        "# Caricamento delle immagini\n",
        "print(\"Caricamento immagini ...\")\n",
        "uploaded = files.upload()\n",
        "filename = next(iter(uploaded))\n",
        "img = read_file(filename)\n",
        "# Variabile per salvataggio dei nomi delle immagini caricate\n",
        "filenames = uploaded.keys()\n",
        "# Per ogni immagine caricata, spostiamola nella cartella delle immagini\n",
        "for f in filenames:\n",
        "    shutil.move(f, \"input_images/\" + f)\n",
        "print(\"Caricamento immagini completato.\")"
      ],
      "metadata": {
        "colab": {
          "base_uri": "https://localhost:8080/",
          "height": 1000
        },
        "id": "T9D1eJPIWdoT",
        "outputId": "f1c4742e-dc5d-4035-e847-500c73e0bc7a"
      },
      "execution_count": null,
      "outputs": [
        {
          "output_type": "stream",
          "name": "stdout",
          "text": [
            "Caricamento immagini ...\n"
          ]
        },
        {
          "output_type": "display_data",
          "data": {
            "text/plain": [
              "<IPython.core.display.HTML object>"
            ],
            "text/html": [
              "\n",
              "     <input type=\"file\" id=\"files-23e74478-c2f6-498a-9b62-49d7812cd1af\" name=\"files[]\" multiple disabled\n",
              "        style=\"border:none\" />\n",
              "     <output id=\"result-23e74478-c2f6-498a-9b62-49d7812cd1af\">\n",
              "      Upload widget is only available when the cell has been executed in the\n",
              "      current browser session. Please rerun this cell to enable.\n",
              "      </output>\n",
              "      <script>// Copyright 2017 Google LLC\n",
              "//\n",
              "// Licensed under the Apache License, Version 2.0 (the \"License\");\n",
              "// you may not use this file except in compliance with the License.\n",
              "// You may obtain a copy of the License at\n",
              "//\n",
              "//      http://www.apache.org/licenses/LICENSE-2.0\n",
              "//\n",
              "// Unless required by applicable law or agreed to in writing, software\n",
              "// distributed under the License is distributed on an \"AS IS\" BASIS,\n",
              "// WITHOUT WARRANTIES OR CONDITIONS OF ANY KIND, either express or implied.\n",
              "// See the License for the specific language governing permissions and\n",
              "// limitations under the License.\n",
              "\n",
              "/**\n",
              " * @fileoverview Helpers for google.colab Python module.\n",
              " */\n",
              "(function(scope) {\n",
              "function span(text, styleAttributes = {}) {\n",
              "  const element = document.createElement('span');\n",
              "  element.textContent = text;\n",
              "  for (const key of Object.keys(styleAttributes)) {\n",
              "    element.style[key] = styleAttributes[key];\n",
              "  }\n",
              "  return element;\n",
              "}\n",
              "\n",
              "// Max number of bytes which will be uploaded at a time.\n",
              "const MAX_PAYLOAD_SIZE = 100 * 1024;\n",
              "\n",
              "function _uploadFiles(inputId, outputId) {\n",
              "  const steps = uploadFilesStep(inputId, outputId);\n",
              "  const outputElement = document.getElementById(outputId);\n",
              "  // Cache steps on the outputElement to make it available for the next call\n",
              "  // to uploadFilesContinue from Python.\n",
              "  outputElement.steps = steps;\n",
              "\n",
              "  return _uploadFilesContinue(outputId);\n",
              "}\n",
              "\n",
              "// This is roughly an async generator (not supported in the browser yet),\n",
              "// where there are multiple asynchronous steps and the Python side is going\n",
              "// to poll for completion of each step.\n",
              "// This uses a Promise to block the python side on completion of each step,\n",
              "// then passes the result of the previous step as the input to the next step.\n",
              "function _uploadFilesContinue(outputId) {\n",
              "  const outputElement = document.getElementById(outputId);\n",
              "  const steps = outputElement.steps;\n",
              "\n",
              "  const next = steps.next(outputElement.lastPromiseValue);\n",
              "  return Promise.resolve(next.value.promise).then((value) => {\n",
              "    // Cache the last promise value to make it available to the next\n",
              "    // step of the generator.\n",
              "    outputElement.lastPromiseValue = value;\n",
              "    return next.value.response;\n",
              "  });\n",
              "}\n",
              "\n",
              "/**\n",
              " * Generator function which is called between each async step of the upload\n",
              " * process.\n",
              " * @param {string} inputId Element ID of the input file picker element.\n",
              " * @param {string} outputId Element ID of the output display.\n",
              " * @return {!Iterable<!Object>} Iterable of next steps.\n",
              " */\n",
              "function* uploadFilesStep(inputId, outputId) {\n",
              "  const inputElement = document.getElementById(inputId);\n",
              "  inputElement.disabled = false;\n",
              "\n",
              "  const outputElement = document.getElementById(outputId);\n",
              "  outputElement.innerHTML = '';\n",
              "\n",
              "  const pickedPromise = new Promise((resolve) => {\n",
              "    inputElement.addEventListener('change', (e) => {\n",
              "      resolve(e.target.files);\n",
              "    });\n",
              "  });\n",
              "\n",
              "  const cancel = document.createElement('button');\n",
              "  inputElement.parentElement.appendChild(cancel);\n",
              "  cancel.textContent = 'Cancel upload';\n",
              "  const cancelPromise = new Promise((resolve) => {\n",
              "    cancel.onclick = () => {\n",
              "      resolve(null);\n",
              "    };\n",
              "  });\n",
              "\n",
              "  // Wait for the user to pick the files.\n",
              "  const files = yield {\n",
              "    promise: Promise.race([pickedPromise, cancelPromise]),\n",
              "    response: {\n",
              "      action: 'starting',\n",
              "    }\n",
              "  };\n",
              "\n",
              "  cancel.remove();\n",
              "\n",
              "  // Disable the input element since further picks are not allowed.\n",
              "  inputElement.disabled = true;\n",
              "\n",
              "  if (!files) {\n",
              "    return {\n",
              "      response: {\n",
              "        action: 'complete',\n",
              "      }\n",
              "    };\n",
              "  }\n",
              "\n",
              "  for (const file of files) {\n",
              "    const li = document.createElement('li');\n",
              "    li.append(span(file.name, {fontWeight: 'bold'}));\n",
              "    li.append(span(\n",
              "        `(${file.type || 'n/a'}) - ${file.size} bytes, ` +\n",
              "        `last modified: ${\n",
              "            file.lastModifiedDate ? file.lastModifiedDate.toLocaleDateString() :\n",
              "                                    'n/a'} - `));\n",
              "    const percent = span('0% done');\n",
              "    li.appendChild(percent);\n",
              "\n",
              "    outputElement.appendChild(li);\n",
              "\n",
              "    const fileDataPromise = new Promise((resolve) => {\n",
              "      const reader = new FileReader();\n",
              "      reader.onload = (e) => {\n",
              "        resolve(e.target.result);\n",
              "      };\n",
              "      reader.readAsArrayBuffer(file);\n",
              "    });\n",
              "    // Wait for the data to be ready.\n",
              "    let fileData = yield {\n",
              "      promise: fileDataPromise,\n",
              "      response: {\n",
              "        action: 'continue',\n",
              "      }\n",
              "    };\n",
              "\n",
              "    // Use a chunked sending to avoid message size limits. See b/62115660.\n",
              "    let position = 0;\n",
              "    do {\n",
              "      const length = Math.min(fileData.byteLength - position, MAX_PAYLOAD_SIZE);\n",
              "      const chunk = new Uint8Array(fileData, position, length);\n",
              "      position += length;\n",
              "\n",
              "      const base64 = btoa(String.fromCharCode.apply(null, chunk));\n",
              "      yield {\n",
              "        response: {\n",
              "          action: 'append',\n",
              "          file: file.name,\n",
              "          data: base64,\n",
              "        },\n",
              "      };\n",
              "\n",
              "      let percentDone = fileData.byteLength === 0 ?\n",
              "          100 :\n",
              "          Math.round((position / fileData.byteLength) * 100);\n",
              "      percent.textContent = `${percentDone}% done`;\n",
              "\n",
              "    } while (position < fileData.byteLength);\n",
              "  }\n",
              "\n",
              "  // All done.\n",
              "  yield {\n",
              "    response: {\n",
              "      action: 'complete',\n",
              "    }\n",
              "  };\n",
              "}\n",
              "\n",
              "scope.google = scope.google || {};\n",
              "scope.google.colab = scope.google.colab || {};\n",
              "scope.google.colab._files = {\n",
              "  _uploadFiles,\n",
              "  _uploadFilesContinue,\n",
              "};\n",
              "})(self);\n",
              "</script> "
            ]
          },
          "metadata": {}
        },
        {
          "output_type": "stream",
          "name": "stdout",
          "text": [
            "Saving 1.png to 1.png\n",
            "Saving 2.png to 2.png\n",
            "Saving 3.png to 3.png\n",
            "Saving 4.png to 4.png\n",
            "Saving 5.png to 5.png\n",
            "Saving 6.png to 6.png\n",
            "Saving 7.png to 7.png\n",
            "Saving 8.png to 8.png\n",
            "Saving 9.png to 9.png\n",
            "Saving 10.png to 10.png\n",
            "Saving 11.png to 11.png\n",
            "Saving 12.png to 12.png\n",
            "Saving 13.png to 13.png\n",
            "Saving 14.png to 14.png\n",
            "Saving 15.png to 15.png\n",
            "Saving 16.png to 16.png\n",
            "Saving 17.png to 17.png\n",
            "Saving 18.png to 18.png\n",
            "Saving 19.png to 19.png\n",
            "Saving 20.png to 20.png\n",
            "Saving 21.png to 21.png\n",
            "Saving 22.png to 22.png\n",
            "Saving 23.png to 23.png\n",
            "Saving 24.png to 24.png\n",
            "Saving 25.png to 25.png\n",
            "Saving 26.png to 26.png\n",
            "Saving 27.png to 27.png\n",
            "Saving 28.png to 28.png\n",
            "Saving 29.png to 29.png\n",
            "Saving 30.png to 30.png\n",
            "Saving 31.png to 31.png\n",
            "Saving 32.png to 32.png\n",
            "Saving 33.png to 33.png\n",
            "Saving 34.png to 34.png\n",
            "Saving 35.png to 35.png\n",
            "Saving 36.png to 36.png\n",
            "Saving 37.png to 37.png\n",
            "Saving 38.png to 38.png\n",
            "Saving 39.png to 39.png\n",
            "Saving 40.png to 40.png\n",
            "Saving 41.png to 41.png\n",
            "Saving 42.png to 42.png\n",
            "Saving 43.png to 43.png\n",
            "Saving 44.png to 44.png\n",
            "Saving 45.png to 45.png\n",
            "Saving 46.png to 46.png\n",
            "Saving 47.png to 47.png\n",
            "Saving 48.png to 48.png\n",
            "Saving 49.png to 49.png\n",
            "Saving 50.png to 50.png\n",
            "Saving 51.png to 51.png\n",
            "Saving 52.png to 52.png\n",
            "Saving 53.png to 53.png\n",
            "Saving 54.png to 54.png\n",
            "Saving 55.png to 55.png\n",
            "Saving 56.png to 56.png\n",
            "Saving 57.png to 57.png\n",
            "Saving 58.png to 58.png\n",
            "Saving 59.png to 59.png\n",
            "Saving 60.png to 60.png\n",
            "Saving 61.png to 61.png\n",
            "Saving 62.png to 62.png\n",
            "Saving 63.png to 63.png\n",
            "Saving 64.png to 64.png\n",
            "Saving 65.png to 65.png\n",
            "Saving 66.png to 66.png\n",
            "Saving 67.png to 67.png\n",
            "Saving 68.png to 68.png\n",
            "Saving 69.png to 69.png\n",
            "Saving 70.png to 70.png\n",
            "Saving 71.png to 71.png\n",
            "Saving 72.png to 72.png\n",
            "Saving 73.png to 73.png\n",
            "Saving 74.png to 74.png\n",
            "Saving 75.png to 75.png\n",
            "Saving 76.png to 76.png\n",
            "Saving 77.png to 77.png\n",
            "Saving 78.png to 78.png\n",
            "Saving 79.png to 79.png\n",
            "Saving 80.png to 80.png\n",
            "Saving 81.png to 81.png\n",
            "Saving 82.png to 82.png\n",
            "Saving 83.png to 83.png\n",
            "Saving 84.png to 84.png\n",
            "Saving 85.png to 85.png\n",
            "Saving 86.png to 86.png\n",
            "Saving 87.png to 87.png\n",
            "Saving 88.png to 88.png\n",
            "Saving 89.png to 89.png\n",
            "Saving 90.png to 90.png\n",
            "Saving 91.png to 91.png\n",
            "Saving 92.png to 92.png\n",
            "Saving 93.png to 93.png\n",
            "Saving 94.png to 94.png\n",
            "Saving 95.png to 95.png\n",
            "Saving 96.png to 96.png\n",
            "Saving 97.png to 97.png\n",
            "Saving 98.png to 98.png\n",
            "Saving 99.png to 99.png\n",
            "Saving 100.png to 100.png\n",
            "Saving 101.png to 101.png\n",
            "Saving 102.png to 102.png\n",
            "Saving 103.png to 103.png\n",
            "Saving 104.png to 104.png\n",
            "Saving 105.png to 105.png\n",
            "Saving 106.png to 106.png\n",
            "Saving 107.png to 107.png\n",
            "Saving 108.png to 108.png\n",
            "Saving 109.png to 109.png\n",
            "Saving 110.png to 110.png\n",
            "Saving 111.png to 111.png\n",
            "Saving 112.png to 112.png\n",
            "Saving 113.png to 113.png\n",
            "Saving 114.png to 114.png\n",
            "Saving 115.png to 115.png\n",
            "Saving 116.png to 116.png\n",
            "Saving 117.png to 117.png\n",
            "Saving 118.png to 118.png\n",
            "Saving 119.png to 119.png\n",
            "Saving 120.png to 120.png\n",
            "Saving 121.png to 121.png\n",
            "Saving 122.png to 122.png\n",
            "Saving 123.png to 123.png\n",
            "Saving 124.png to 124.png\n",
            "Saving 125.png to 125.png\n",
            "Saving 126.png to 126.png\n",
            "Saving 127.png to 127.png\n",
            "Saving 128.png to 128.png\n",
            "Saving 129.png to 129.png\n",
            "Saving 130.png to 130.png\n",
            "Saving 131.png to 131.png\n",
            "Saving 132.png to 132.png\n",
            "Saving 133.png to 133.png\n",
            "Saving 134.png to 134.png\n",
            "Saving 135.png to 135.png\n",
            "Saving 136.png to 136.png\n",
            "Saving 137.png to 137.png\n",
            "Saving 138.png to 138.png\n",
            "Saving 139.png to 139.png\n",
            "Saving 140.png to 140.png\n",
            "Saving 141.png to 141.png\n",
            "Saving 142.png to 142.png\n",
            "Saving 143.png to 143.png\n",
            "Saving 144.png to 144.png\n",
            "Saving 145.png to 145.png\n",
            "Saving 146.png to 146.png\n",
            "Saving 147.png to 147.png\n",
            "Saving 148.png to 148.png\n",
            "Saving 149.png to 149.png\n",
            "Saving 150.png to 150.png\n",
            "Saving 151.png to 151.png\n",
            "Saving 152.png to 152.png\n",
            "Saving 153.png to 153.png\n",
            "Saving 154.png to 154.png\n",
            "Saving 155.png to 155.png\n",
            "Saving 156.png to 156.png\n",
            "Saving 157.png to 157.png\n",
            "Saving 158.png to 158.png\n",
            "Saving 159.png to 159.png\n",
            "Saving 160.png to 160.png\n",
            "Saving 161.png to 161.png\n",
            "Saving 162.png to 162.png\n",
            "Saving 163.png to 163.png\n",
            "Saving 164.png to 164.png\n",
            "Saving 165.png to 165.png\n",
            "Saving 166.png to 166.png\n",
            "Saving 167.png to 167.png\n",
            "Saving 168.png to 168.png\n",
            "Saving 169.png to 169.png\n",
            "Saving 170.png to 170.png\n",
            "Saving 171.png to 171.png\n",
            "Saving 172.png to 172.png\n",
            "Saving 173.png to 173.png\n",
            "Saving 174.png to 174.png\n",
            "Saving 175.png to 175.png\n",
            "Saving 176.png to 176.png\n",
            "Saving 177.png to 177.png\n",
            "Saving 178.png to 178.png\n",
            "Saving 179.png to 179.png\n",
            "Saving 180.png to 180.png\n",
            "Saving 181.png to 181.png\n",
            "Saving 182.png to 182.png\n",
            "Saving 183.png to 183.png\n",
            "Saving 184.png to 184.png\n",
            "Saving 185.png to 185.png\n",
            "Saving 186.png to 186.png\n",
            "Saving 187.png to 187.png\n",
            "Saving 188.png to 188.png\n",
            "Saving 189.png to 189.png\n",
            "Saving 190.png to 190.png\n",
            "Saving 191.png to 191.png\n",
            "Saving 192.png to 192.png\n",
            "Saving 193.png to 193.png\n",
            "Saving 194.png to 194.png\n",
            "Saving 195.png to 195.png\n",
            "Saving 196.png to 196.png\n",
            "Saving 197.png to 197.png\n",
            "Saving 198.png to 198.png\n",
            "Saving 199.png to 199.png\n",
            "Saving 200.png to 200.png\n",
            "Caricamento immagini completato.\n"
          ]
        }
      ]
    },
    {
      "cell_type": "markdown",
      "source": [
        "creo una copia backup delle immagini non a fumetti"
      ],
      "metadata": {
        "id": "zAwohioerjW5"
      }
    },
    {
      "cell_type": "code",
      "source": [
        "source_dir = r\"/content/input_images\"\n",
        "destination_dir = r\"/content/original_images\"\n",
        "shutil.copytree(source_dir, destination_dir)"
      ],
      "metadata": {
        "colab": {
          "base_uri": "https://localhost:8080/",
          "height": 35
        },
        "id": "iqmCHb2ZfZqD",
        "outputId": "c6c514ed-7332-4a78-9682-a567056e8119"
      },
      "execution_count": null,
      "outputs": [
        {
          "output_type": "execute_result",
          "data": {
            "text/plain": [
              "'/content/original_images'"
            ],
            "application/vnd.google.colaboratory.intrinsic+json": {
              "type": "string"
            }
          },
          "metadata": {},
          "execution_count": 8
        }
      ]
    },
    {
      "cell_type": "markdown",
      "source": [
        "## ***3.Trasferimento delle etichette***"
      ],
      "metadata": {
        "id": "XyntzLVcY-Mw"
      }
    },
    {
      "cell_type": "markdown",
      "source": [
        "Inizializzo i vari path:\n",
        "\n",
        "inputPath fanno riferimento al dataset dei volti a fumetti\n",
        "\n",
        "outputPath fanno riferimento al dataset che conterrà le label delle immagini a fumetti ma le immagini originali non a fumetti\n",
        "\n",
        "OriginalImagesPath conterrà le immagini non a fumetti che devono essere rinominate e sostituite alle immagini a fumetti"
      ],
      "metadata": {
        "id": "917KW80pZDN2"
      }
    },
    {
      "cell_type": "code",
      "source": [
        "datasetName = os.listdir(\"/content/datasets/\")\n",
        "datasetNameOut = os.listdir(\"/content/datasetOutput/\")\n",
        "\n",
        "inputPathImagesTest = (\"/content/datasets/\"+datasetName[0]+\"/test/images\")\n",
        "inputPathImagesTrain = (\"/content/datasets/\"+datasetName[0]+\"/train/images\")\n",
        "inputPathImagesValid = (\"/content/datasets/\"+datasetName[0]+\"/valid/images\")\n",
        "\n",
        "outputPathImagesTest = (\"/content/datasetOutput/\"+datasetNameOut[0]+\"/test/images\")\n",
        "outputPathImagesTrain = (\"/content/datasetOutput/\"+datasetNameOut[0]+\"/train/images\")\n",
        "outputPathImagesValid = (\"/content/datasetOutput/\"+datasetNameOut[0]+\"/valid/images\")\n",
        "\n",
        "originalImagesPath = (\"/content/input_images\")"
      ],
      "metadata": {
        "id": "UVJebEzxZoT1"
      },
      "execution_count": null,
      "outputs": []
    },
    {
      "cell_type": "markdown",
      "source": [
        "AutomaticRename è la funzione che permette di rinominare le immagini non a fumetti con lo stesso nome delle immagini a fumetti.\n",
        "\n",
        "inputPath: path sorgente contenente le immagini a fumetti\n",
        "\n",
        "outputPath: path di destinazione contenente le immagini non a fumetti da rinominare\n",
        "\n",
        "isInformativeDrawings: flag per stabilire se la tecnica utilizzata per rendere a fumetti l'immagine è \"informativeDrawings\" con 1 o \"AdaptiveThreshold\" con 0"
      ],
      "metadata": {
        "id": "SN9ZW6OhscdC"
      }
    },
    {
      "cell_type": "code",
      "source": [
        "def automaticRename(inputPath, outputPath, isInformativeDrawings):\n",
        "\n",
        "  for images in os.listdir(inputPath):\n",
        "    #NomeFile generato da roboflow: nomefilecaricato.rf.stringadi32caratteri.jpg\n",
        "    stringaNomeFile = images\n",
        "    #Prendo le ultime 37 cifre contenente codice esadecimale aggiunto da Roboflow + . + jpg\n",
        "    length = len(stringaNomeFile)\n",
        "    esaCode = stringaNomeFile[length - 36 :]\n",
        "    nomefile = stringaNomeFile[: length-36]\n",
        "    if(isInformativeDrawings == 1):\n",
        "      numerofile = nomefile[:len(nomefile)-12] #8 se adaptive threshold 12 se è informative drawings\n",
        "    else:\n",
        "      numerofile = nomefile[:len(nomefile)-8] #8 se adaptive threshold 12 se è informative drawings\n",
        "    \n",
        "    #print(\"Nome intero: \"+stringaNomeFile)\n",
        "    #print(\"Codice Esadecimale: \"+esaCode)\n",
        "    #print(\"Nome File senza codice Esadecimale: \"+nomefile)\n",
        "    #print(\"Nome File originale: \"+numerofile)\n",
        "    for filedaRinominare in os.listdir(outputPath):\n",
        "      print(numerofile)\n",
        "      print(filedaRinominare)\n",
        "      if (numerofile+'.png') == filedaRinominare :\n",
        "        if(isInformativeDrawings == 1): \n",
        "          os.rename(outputPath + '//' + filedaRinominare, outputPath + '//' + numerofile+ '_out_png.rf.'+ esaCode)\n",
        "        else:\n",
        "          os.rename(outputPath + '//' + filedaRinominare, outputPath + '//' + numerofile+ '_png.rf.'+ esaCode)\n",
        "        \n",
        "\n",
        "  print(\"Done!\")"
      ],
      "metadata": {
        "id": "4eVdfNofddMF"
      },
      "execution_count": null,
      "outputs": []
    },
    {
      "cell_type": "markdown",
      "source": [
        "automaticReplace è una funzione che permette di trasferire le immagini con lo stesso nome da una cartella sorgente(input)  ad una cartella di destinazione (output)"
      ],
      "metadata": {
        "id": "on4eO9XdtM0Q"
      }
    },
    {
      "cell_type": "code",
      "source": [
        "def automaticReplace(input, output):\n",
        "  for inputFile in os.listdir(input):\n",
        "    for outFile in os.listdir(output):\n",
        "      #print(\"Input = \"+inputFile)\n",
        "      #print(\"Output = \"+outFile)\n",
        "      if(inputFile == outFile):\n",
        "        shutil.move(os.path.join(input, inputFile), os.path.join(output, outFile))\n",
        "        break"
      ],
      "metadata": {
        "id": "WpXo3UsOkESk"
      },
      "execution_count": null,
      "outputs": []
    },
    {
      "cell_type": "markdown",
      "source": [
        "Chiamiamo le due funzioni per le tre cartelle Train, Test, Valid"
      ],
      "metadata": {
        "id": "nAPxDqQ5yn4E"
      }
    },
    {
      "cell_type": "code",
      "source": [
        "automaticRename(inputPathImagesTest,originalImagesPath,0)\n",
        "automaticReplace(originalImagesPath,outputPathImagesTest)\n",
        "\n",
        "automaticRename(inputPathImagesTrain,originalImagesPath,0)\n",
        "automaticReplace(originalImagesPath,outputPathImagesTrain)\n",
        "\n",
        "automaticRename(inputPathImagesValid,originalImagesPath,0)\n",
        "automaticReplace(originalImagesPath,outputPathImagesValid)"
      ],
      "metadata": {
        "colab": {
          "base_uri": "https://localhost:8080/"
        },
        "id": "ZvaOMZzNeQWU",
        "outputId": "54540b8c-9669-4297-fd03-4e7db35806b1"
      },
      "execution_count": null,
      "outputs": [
        {
          "output_type": "stream",
          "name": "stdout",
          "text": [
            "Done!\n",
            "Done!\n",
            "Done!\n"
          ]
        }
      ]
    },
    {
      "cell_type": "markdown",
      "source": [
        "## ***4.Generazione e Salvataggio del nuovo Dataset***"
      ],
      "metadata": {
        "id": "dyRdZwYMypQl"
      }
    },
    {
      "cell_type": "code",
      "source": [
        "#genero lo zip della cartella da scaricare\n",
        "!zip -r /datasetOutput.zip  /content/datasetOutput/"
      ],
      "metadata": {
        "colab": {
          "base_uri": "https://localhost:8080/"
        },
        "id": "H6E3ivWAlGev",
        "outputId": "8bc397db-73bb-464c-c814-4f4ea4bc3fb8"
      },
      "execution_count": null,
      "outputs": [
        {
          "output_type": "stream",
          "name": "stdout",
          "text": [
            "updating: content/datasetOutput/ (stored 0%)\n",
            "updating: content/datasetOutput/ProceduraFumettiAdaptiveThreshold-1/ (stored 0%)\n",
            "updating: content/datasetOutput/ProceduraFumettiAdaptiveThreshold-1/train/ (stored 0%)\n",
            "updating: content/datasetOutput/ProceduraFumettiAdaptiveThreshold-1/train/images/ (stored 0%)\n",
            "updating: content/datasetOutput/ProceduraFumettiAdaptiveThreshold-1/train/images/126_png.rf.d9dac4489a7d1daa4168fba6366fa598.jpg (deflated 2%)\n",
            "updating: content/datasetOutput/ProceduraFumettiAdaptiveThreshold-1/train/images/35_png.rf.9629dcb705c0dd01fc427a31c745e1a5.jpg (deflated 2%)\n",
            "updating: content/datasetOutput/ProceduraFumettiAdaptiveThreshold-1/train/images/104_png.rf.af82638981ce8eaafa6a170997da9644.jpg (deflated 22%)\n",
            "updating: content/datasetOutput/ProceduraFumettiAdaptiveThreshold-1/train/images/158_png.rf.5f5f29efe6eba444a0daf6f3aa4cc7a7.jpg (deflated 1%)\n",
            "updating: content/datasetOutput/ProceduraFumettiAdaptiveThreshold-1/train/images/174_png.rf.7b5c051642f936f2534b1e1731d1a6e9.jpg (deflated 3%)\n",
            "updating: content/datasetOutput/ProceduraFumettiAdaptiveThreshold-1/train/images/134_png.rf.6f843d19ea849261474a0d803a0aefbe.jpg (deflated 1%)\n",
            "updating: content/datasetOutput/ProceduraFumettiAdaptiveThreshold-1/train/images/39_png.rf.e0838f807bb118dc7a19ed2337637f8c.jpg (deflated 1%)\n",
            "updating: content/datasetOutput/ProceduraFumettiAdaptiveThreshold-1/train/images/190_png.rf.4f2d4618649e6795555276119940ec7b.jpg (deflated 1%)\n",
            "updating: content/datasetOutput/ProceduraFumettiAdaptiveThreshold-1/train/images/124_png.rf.ac7d31d3293703975ceeb28e5911c28d.jpg (deflated 2%)\n",
            "updating: content/datasetOutput/ProceduraFumettiAdaptiveThreshold-1/train/images/152_png.rf.c64ce5cb694ccc2db25ec52bf70bff33.jpg (deflated 2%)\n",
            "updating: content/datasetOutput/ProceduraFumettiAdaptiveThreshold-1/train/images/88_png.rf.0173acd58213c8e8b1ab5a51261effd4.jpg (deflated 1%)\n",
            "updating: content/datasetOutput/ProceduraFumettiAdaptiveThreshold-1/train/images/165_png.rf.c2768c651568d1b4976487c960b72e78.jpg (deflated 1%)\n",
            "updating: content/datasetOutput/ProceduraFumettiAdaptiveThreshold-1/train/images/38_png.rf.76a92f798caa41c66a076bd86ea5d3ee.jpg (deflated 1%)\n",
            "updating: content/datasetOutput/ProceduraFumettiAdaptiveThreshold-1/train/images/110_png.rf.e52961ff8218189f1fdc812a1e311baa.jpg (deflated 1%)\n",
            "updating: content/datasetOutput/ProceduraFumettiAdaptiveThreshold-1/train/images/58_png.rf.d27e26f3c1855ca7ca565d4e1ddebde3.jpg (deflated 1%)\n",
            "updating: content/datasetOutput/ProceduraFumettiAdaptiveThreshold-1/train/images/85_png.rf.5911fae2d061a34b3ef132366fcccaf4.jpg (deflated 1%)\n",
            "updating: content/datasetOutput/ProceduraFumettiAdaptiveThreshold-1/train/images/133_png.rf.ce705103a28eb907402bd7fd09702be2.jpg (deflated 2%)\n",
            "updating: content/datasetOutput/ProceduraFumettiAdaptiveThreshold-1/train/images/21_png.rf.91e615559c9eede84954320b4ec28951.jpg (deflated 1%)\n",
            "updating: content/datasetOutput/ProceduraFumettiAdaptiveThreshold-1/train/images/146_png.rf.ea5a703fca6a385247de0775d49d45fd.jpg (deflated 2%)\n",
            "updating: content/datasetOutput/ProceduraFumettiAdaptiveThreshold-1/train/images/73_png.rf.9c1e3c26a8a1d5f37cfb3b02d588cfc4.jpg (deflated 1%)\n",
            "updating: content/datasetOutput/ProceduraFumettiAdaptiveThreshold-1/train/images/128_png.rf.ec738a6deca34c92a48b10e2a2126902.jpg (deflated 1%)\n",
            "updating: content/datasetOutput/ProceduraFumettiAdaptiveThreshold-1/train/images/36_png.rf.af091c4446c63eb231ce29d71d894e15.jpg (deflated 1%)\n",
            "updating: content/datasetOutput/ProceduraFumettiAdaptiveThreshold-1/train/images/90_png.rf.8ded8c60dc78372107820e833e3051f1.jpg (deflated 2%)\n",
            "updating: content/datasetOutput/ProceduraFumettiAdaptiveThreshold-1/train/images/199_png.rf.27ec5930e49cf69a3b529fe17b8b021b.jpg (deflated 2%)\n",
            "updating: content/datasetOutput/ProceduraFumettiAdaptiveThreshold-1/train/images/30_png.rf.bc443603d9e82eef6f52c7e38f312bc9.jpg (deflated 1%)\n",
            "updating: content/datasetOutput/ProceduraFumettiAdaptiveThreshold-1/train/images/61_png.rf.c892802dcc5272ae2426ccb9d1d62f15.jpg (deflated 3%)\n",
            "updating: content/datasetOutput/ProceduraFumettiAdaptiveThreshold-1/train/images/129_png.rf.ada8cb53dd869c3a371439c7fd3355d8.jpg (deflated 2%)\n",
            "updating: content/datasetOutput/ProceduraFumettiAdaptiveThreshold-1/train/images/200_png.rf.aa4f73da7bd4a42973b1be73cde9844c.jpg (deflated 1%)\n",
            "updating: content/datasetOutput/ProceduraFumettiAdaptiveThreshold-1/train/images/70_png.rf.3024a1e0968cd99a2428a37a968c4c1f.jpg (deflated 0%)\n",
            "updating: content/datasetOutput/ProceduraFumettiAdaptiveThreshold-1/train/images/6_png.rf.72b232212277662104d39fb77cbd9028.jpg (deflated 2%)\n",
            "updating: content/datasetOutput/ProceduraFumettiAdaptiveThreshold-1/train/images/50_png.rf.a599f33f6cf69d2b5dd45f825d6969fb.jpg (deflated 1%)\n",
            "updating: content/datasetOutput/ProceduraFumettiAdaptiveThreshold-1/train/images/55_png.rf.33acbc29d915cf1a2e1b1aa94daa9080.jpg (deflated 1%)\n",
            "updating: content/datasetOutput/ProceduraFumettiAdaptiveThreshold-1/train/images/101_png.rf.1192c4cfea4b3e3bb4dbb8647c8bf27d.jpg (deflated 4%)\n",
            "updating: content/datasetOutput/ProceduraFumettiAdaptiveThreshold-1/train/images/187_png.rf.b1e36bd10ada2c6044e6c06f96f1bc40.jpg (deflated 1%)\n",
            "updating: content/datasetOutput/ProceduraFumettiAdaptiveThreshold-1/train/images/111_png.rf.9fb3e5af9e764a320aabe8f5b7b15bef.jpg (deflated 1%)\n",
            "updating: content/datasetOutput/ProceduraFumettiAdaptiveThreshold-1/train/images/1_png.rf.c00bf9838bc504a083a7324d93539f5c.jpg (deflated 1%)\n",
            "updating: content/datasetOutput/ProceduraFumettiAdaptiveThreshold-1/train/images/82_png.rf.896368b787483e5f9cbf4e4918bfc20b.jpg (deflated 1%)\n",
            "updating: content/datasetOutput/ProceduraFumettiAdaptiveThreshold-1/train/images/15_png.rf.2e1c9b4de9eba1f8f213a40bb2773097.jpg (deflated 1%)\n",
            "updating: content/datasetOutput/ProceduraFumettiAdaptiveThreshold-1/train/images/171_png.rf.8829b59505da36e864ff189a6904c232.jpg (deflated 1%)\n",
            "updating: content/datasetOutput/ProceduraFumettiAdaptiveThreshold-1/train/images/49_png.rf.72807acc3a8d083fa3f40ffbf712d36b.jpg (deflated 1%)\n",
            "updating: content/datasetOutput/ProceduraFumettiAdaptiveThreshold-1/train/images/3_png.rf.826994733d1e9b99f45e77f157c5690a.jpg (deflated 1%)\n",
            "updating: content/datasetOutput/ProceduraFumettiAdaptiveThreshold-1/train/images/107_png.rf.05f7ee1b2076d1ee129562d958c4bdda.jpg (deflated 0%)\n",
            "updating: content/datasetOutput/ProceduraFumettiAdaptiveThreshold-1/train/images/75_png.rf.5b05e8d78c912d16c1215287cdee6f0c.jpg (deflated 1%)\n",
            "updating: content/datasetOutput/ProceduraFumettiAdaptiveThreshold-1/train/images/156_png.rf.25544ec310b0c7cdac145ae0b92a3cc2.jpg (deflated 2%)\n",
            "updating: content/datasetOutput/ProceduraFumettiAdaptiveThreshold-1/train/images/16_png.rf.c22570579231150f917e5693f1885915.jpg (deflated 1%)\n",
            "updating: content/datasetOutput/ProceduraFumettiAdaptiveThreshold-1/train/images/122_png.rf.626eca5be21b952d4398b581f7e858f8.jpg (deflated 2%)\n",
            "updating: content/datasetOutput/ProceduraFumettiAdaptiveThreshold-1/train/images/31_png.rf.ffec408576779aaa0a345c4cfde574da.jpg (deflated 1%)\n",
            "updating: content/datasetOutput/ProceduraFumettiAdaptiveThreshold-1/train/images/119_png.rf.201de0030bc44a29fcd7e1a86a1ec585.jpg (deflated 3%)\n",
            "updating: content/datasetOutput/ProceduraFumettiAdaptiveThreshold-1/train/images/123_png.rf.5c2edec96defb7f49039880e0d01199d.jpg (deflated 2%)\n",
            "updating: content/datasetOutput/ProceduraFumettiAdaptiveThreshold-1/train/images/192_png.rf.48c68f7cd84ff43ee0334da30d7192b2.jpg (deflated 1%)\n",
            "updating: content/datasetOutput/ProceduraFumettiAdaptiveThreshold-1/train/images/173_png.rf.9d44cc128323dcd79a4bc6520a616886.jpg (deflated 4%)\n",
            "updating: content/datasetOutput/ProceduraFumettiAdaptiveThreshold-1/train/images/172_png.rf.7d1d8721c459a73deeacf089a4c5c878.jpg (deflated 1%)\n",
            "updating: content/datasetOutput/ProceduraFumettiAdaptiveThreshold-1/train/images/25_png.rf.233b27dd36c05a11b1b78f54b48ecac6.jpg (deflated 1%)\n",
            "updating: content/datasetOutput/ProceduraFumettiAdaptiveThreshold-1/train/images/2_png.rf.01657e443540b26845281be606d0eaef.jpg (deflated 3%)\n",
            "updating: content/datasetOutput/ProceduraFumettiAdaptiveThreshold-1/train/images/117_png.rf.a02fa00f59dbeca12843b9370937e31c.jpg (deflated 2%)\n",
            "updating: content/datasetOutput/ProceduraFumettiAdaptiveThreshold-1/train/images/81_png.rf.0881bfb25e385337ea1b2b1dbb613e31.jpg (deflated 1%)\n",
            "updating: content/datasetOutput/ProceduraFumettiAdaptiveThreshold-1/train/images/29_png.rf.480b9283482cff3e8575c2b78cf36e34.jpg (deflated 1%)\n",
            "updating: content/datasetOutput/ProceduraFumettiAdaptiveThreshold-1/train/images/180_png.rf.4abd4a440e0672ebc05bddb34117130b.jpg (deflated 1%)\n",
            "updating: content/datasetOutput/ProceduraFumettiAdaptiveThreshold-1/train/images/136_png.rf.efcba15160d313ce8249bcd93a344591.jpg (deflated 1%)\n",
            "updating: content/datasetOutput/ProceduraFumettiAdaptiveThreshold-1/train/images/64_png.rf.e37e49d7f47cd9278019ca5042a07a8e.jpg (deflated 1%)\n",
            "updating: content/datasetOutput/ProceduraFumettiAdaptiveThreshold-1/train/images/149_png.rf.08e8e6959cc6a191e122795f8e9a8a26.jpg (deflated 1%)\n",
            "updating: content/datasetOutput/ProceduraFumettiAdaptiveThreshold-1/train/images/68_png.rf.f19980348424759314532abafa0841bd.jpg (deflated 1%)\n",
            "updating: content/datasetOutput/ProceduraFumettiAdaptiveThreshold-1/train/images/108_png.rf.8c708b309efebe61002f7aa363b28707.jpg (deflated 3%)\n",
            "updating: content/datasetOutput/ProceduraFumettiAdaptiveThreshold-1/train/images/54_png.rf.0a21ca715e9eb4c4d629dcb60f7507d6.jpg (deflated 1%)\n",
            "updating: content/datasetOutput/ProceduraFumettiAdaptiveThreshold-1/train/images/12_png.rf.0cba5a73ae79ad825a4efb3986b11605.jpg (deflated 1%)\n",
            "updating: content/datasetOutput/ProceduraFumettiAdaptiveThreshold-1/train/images/59_png.rf.41ced66a6a2d479eb7e8fafce8133c34.jpg (deflated 2%)\n",
            "updating: content/datasetOutput/ProceduraFumettiAdaptiveThreshold-1/train/images/148_png.rf.7183a89373cbce2a248b9fd8bfcc3fa0.jpg (deflated 2%)\n",
            "updating: content/datasetOutput/ProceduraFumettiAdaptiveThreshold-1/train/images/153_png.rf.86e37ec58f8153e1ec83409aaff3b6bc.jpg (deflated 2%)\n",
            "updating: content/datasetOutput/ProceduraFumettiAdaptiveThreshold-1/train/images/196_png.rf.250af9f96ba89d46e2037bfdd12e4118.jpg (deflated 3%)\n",
            "updating: content/datasetOutput/ProceduraFumettiAdaptiveThreshold-1/train/images/154_png.rf.78af5df2174018fec242d0d8763ae077.jpg (deflated 1%)\n",
            "updating: content/datasetOutput/ProceduraFumettiAdaptiveThreshold-1/train/images/170_png.rf.78ddc12468defebff6766fed617101cd.jpg (deflated 1%)\n",
            "updating: content/datasetOutput/ProceduraFumettiAdaptiveThreshold-1/train/images/20_png.rf.310eb4d61be6ae1662ff3d37131eb09f.jpg (deflated 1%)\n",
            "updating: content/datasetOutput/ProceduraFumettiAdaptiveThreshold-1/train/images/51_png.rf.badbdf06ffc2049d4905cf57752dad72.jpg (deflated 1%)\n",
            "updating: content/datasetOutput/ProceduraFumettiAdaptiveThreshold-1/train/images/120_png.rf.2a8f509badb48d603c951c105f4109b5.jpg (deflated 2%)\n",
            "updating: content/datasetOutput/ProceduraFumettiAdaptiveThreshold-1/train/images/44_png.rf.ee18e5ecf4593a9fb6e824d7d1c01553.jpg (deflated 1%)\n",
            "updating: content/datasetOutput/ProceduraFumettiAdaptiveThreshold-1/train/images/19_png.rf.eac9fece81b5fc9ac1aa236fb1050cee.jpg (deflated 1%)\n",
            "updating: content/datasetOutput/ProceduraFumettiAdaptiveThreshold-1/train/images/100_png.rf.3850ce1dee9bf70d57090e52df2f22fc.jpg (deflated 1%)\n",
            "updating: content/datasetOutput/ProceduraFumettiAdaptiveThreshold-1/train/images/79_png.rf.42d6f302b145c1a168c1e2f6d900facc.jpg (deflated 2%)\n",
            "updating: content/datasetOutput/ProceduraFumettiAdaptiveThreshold-1/train/images/194_png.rf.e2d966f1ca210cbf83d99b18b837becc.jpg (deflated 2%)\n",
            "updating: content/datasetOutput/ProceduraFumettiAdaptiveThreshold-1/train/images/22_png.rf.3c732a5bf814321f5bcfbe4ed6ab897b.jpg (deflated 1%)\n",
            "updating: content/datasetOutput/ProceduraFumettiAdaptiveThreshold-1/train/images/127_png.rf.bf5815d7ea439c4cd2a60a564419ebf5.jpg (deflated 1%)\n",
            "updating: content/datasetOutput/ProceduraFumettiAdaptiveThreshold-1/train/images/78_png.rf.7e948f7f007ba5a4e0b1f05f027f7cdf.jpg (deflated 2%)\n",
            "updating: content/datasetOutput/ProceduraFumettiAdaptiveThreshold-1/train/images/198_png.rf.c0337028d74eb965f8d1b0e74e09f3fa.jpg (deflated 2%)\n",
            "updating: content/datasetOutput/ProceduraFumettiAdaptiveThreshold-1/train/images/48_png.rf.d5833a750edae9a1e0f01cad006ec25d.jpg (deflated 1%)\n",
            "updating: content/datasetOutput/ProceduraFumettiAdaptiveThreshold-1/train/images/95_png.rf.a4b6b33e655fcfa7236981f12874e522.jpg (deflated 2%)\n",
            "updating: content/datasetOutput/ProceduraFumettiAdaptiveThreshold-1/train/images/97_png.rf.ab3cfe722aca01319524fa0ce867288e.jpg (deflated 0%)\n",
            "updating: content/datasetOutput/ProceduraFumettiAdaptiveThreshold-1/train/images/144_png.rf.85933eb070c2c0a0b038a26c7654f82d.jpg (deflated 1%)\n",
            "updating: content/datasetOutput/ProceduraFumettiAdaptiveThreshold-1/train/images/188_png.rf.89f3e33d29e7e6e29f1aaf876c09e5bc.jpg (deflated 1%)\n",
            "updating: content/datasetOutput/ProceduraFumettiAdaptiveThreshold-1/train/images/24_png.rf.b40fca2142fe68b300af1da4e70f7f19.jpg (deflated 2%)\n",
            "updating: content/datasetOutput/ProceduraFumettiAdaptiveThreshold-1/train/images/161_png.rf.dd692daf11868e733f871ac7f66df567.jpg (deflated 2%)\n",
            "updating: content/datasetOutput/ProceduraFumettiAdaptiveThreshold-1/train/images/4_png.rf.dbc9ae60387aaa867218f862f238b559.jpg (deflated 1%)\n",
            "updating: content/datasetOutput/ProceduraFumettiAdaptiveThreshold-1/train/images/74_png.rf.84317050f3b7a35428a07eae10805443.jpg (deflated 1%)\n",
            "updating: content/datasetOutput/ProceduraFumettiAdaptiveThreshold-1/train/images/138_png.rf.7a6b92ec68a74ed88b2d1d81c194409d.jpg (deflated 2%)\n",
            "updating: content/datasetOutput/ProceduraFumettiAdaptiveThreshold-1/train/images/80_png.rf.c694bc7c263032a75180a741f05ec30f.jpg (deflated 2%)\n",
            "updating: content/datasetOutput/ProceduraFumettiAdaptiveThreshold-1/train/images/10_png.rf.997e105ba026a4eba31948a8dec0e39d.jpg (deflated 1%)\n",
            "updating: content/datasetOutput/ProceduraFumettiAdaptiveThreshold-1/train/images/175_png.rf.421decfc23f0cd393af46aefb3ef2b1d.jpg (deflated 0%)\n",
            "updating: content/datasetOutput/ProceduraFumettiAdaptiveThreshold-1/train/images/56_png.rf.94fecfb7335fc73ec354be51c7eb5bcc.jpg (deflated 3%)\n",
            "updating: content/datasetOutput/ProceduraFumettiAdaptiveThreshold-1/train/images/94_png.rf.a23674579bae802c28b75607d3906b78.jpg (deflated 2%)\n",
            "updating: content/datasetOutput/ProceduraFumettiAdaptiveThreshold-1/train/images/125_png.rf.bbd7baf820baa33b1f86dbdffb2b1545.jpg (deflated 1%)\n",
            "updating: content/datasetOutput/ProceduraFumettiAdaptiveThreshold-1/train/images/23_png.rf.edd005314b075ef7cadc454815eede46.jpg (deflated 1%)\n",
            "updating: content/datasetOutput/ProceduraFumettiAdaptiveThreshold-1/train/images/113_png.rf.e7f15f87378e49af4b31087b6491b266.jpg (deflated 1%)\n",
            "updating: content/datasetOutput/ProceduraFumettiAdaptiveThreshold-1/train/images/71_png.rf.7560c13ba43c31693fafc067d14d9921.jpg (deflated 6%)\n",
            "updating: content/datasetOutput/ProceduraFumettiAdaptiveThreshold-1/train/images/164_png.rf.7fe62665bb7692027fbd927bf027b7e3.jpg (deflated 2%)\n",
            "updating: content/datasetOutput/ProceduraFumettiAdaptiveThreshold-1/train/images/26_png.rf.4233498b1fb3d5d68ba96a29f9ccf1f2.jpg (deflated 1%)\n",
            "updating: content/datasetOutput/ProceduraFumettiAdaptiveThreshold-1/train/images/163_png.rf.eac7a8ea47b583a431ca0a0df6aafdae.jpg (deflated 1%)\n",
            "updating: content/datasetOutput/ProceduraFumettiAdaptiveThreshold-1/train/images/47_png.rf.42e9c3b742c82377106ee17d9c25dd18.jpg (deflated 1%)\n",
            "updating: content/datasetOutput/ProceduraFumettiAdaptiveThreshold-1/train/images/96_png.rf.70284205e1c20bda32207a502fb61f33.jpg (deflated 1%)\n",
            "updating: content/datasetOutput/ProceduraFumettiAdaptiveThreshold-1/train/images/168_png.rf.c5586ff1591828ac65b725e6af3e71ea.jpg (deflated 2%)\n",
            "updating: content/datasetOutput/ProceduraFumettiAdaptiveThreshold-1/train/images/5_png.rf.4e32eb2ba490f4a8fed15a3eedf484bb.jpg (deflated 4%)\n",
            "updating: content/datasetOutput/ProceduraFumettiAdaptiveThreshold-1/train/images/43_png.rf.590cb1503d8f38df87b905c2bd5990e8.jpg (deflated 1%)\n",
            "updating: content/datasetOutput/ProceduraFumettiAdaptiveThreshold-1/train/images/76_png.rf.4bece5b5c3dbc42670cf5fb95a0e37f2.jpg (deflated 1%)\n",
            "updating: content/datasetOutput/ProceduraFumettiAdaptiveThreshold-1/train/images/182_png.rf.8c16f03796ffaa0d61c1de01979ae19e.jpg (deflated 1%)\n",
            "updating: content/datasetOutput/ProceduraFumettiAdaptiveThreshold-1/train/images/41_png.rf.2a5eae29fc9d29b1b80f04dea68c887f.jpg (deflated 1%)\n",
            "updating: content/datasetOutput/ProceduraFumettiAdaptiveThreshold-1/train/images/105_png.rf.90776357944378a530bbd9effddcd789.jpg (deflated 2%)\n",
            "updating: content/datasetOutput/ProceduraFumettiAdaptiveThreshold-1/train/images/162_png.rf.14779c5734e6f4b3666c82fe9ef7a84b.jpg (deflated 1%)\n",
            "updating: content/datasetOutput/ProceduraFumettiAdaptiveThreshold-1/train/images/191_png.rf.075e553486cbaa43d20babc15e66599b.jpg (deflated 1%)\n",
            "updating: content/datasetOutput/ProceduraFumettiAdaptiveThreshold-1/train/images/91_png.rf.67f35bded9a76b798b9bddebb0b962d6.jpg (deflated 2%)\n",
            "updating: content/datasetOutput/ProceduraFumettiAdaptiveThreshold-1/train/images/69_png.rf.bf766cf23a95257734455bc152687e20.jpg (deflated 0%)\n",
            "updating: content/datasetOutput/ProceduraFumettiAdaptiveThreshold-1/train/images/121_png.rf.0785df65c338d676aa1ecd363464b4bc.jpg (deflated 2%)\n",
            "updating: content/datasetOutput/ProceduraFumettiAdaptiveThreshold-1/train/images/7_png.rf.8c551b82fa5da9fcdc97477451836bb8.jpg (deflated 4%)\n",
            "updating: content/datasetOutput/ProceduraFumettiAdaptiveThreshold-1/train/images/184_png.rf.11f5793b6cda5ca5f648bb08f60413f0.jpg (deflated 1%)\n",
            "updating: content/datasetOutput/ProceduraFumettiAdaptiveThreshold-1/train/images/28_png.rf.592bc9b317127181e4214a4c2b463083.jpg (deflated 1%)\n",
            "updating: content/datasetOutput/ProceduraFumettiAdaptiveThreshold-1/train/images/9_png.rf.694c7fbf7b11ab3d11c8be04020b9347.jpg (deflated 1%)\n",
            "updating: content/datasetOutput/ProceduraFumettiAdaptiveThreshold-1/train/images/114_png.rf.8cd98d3a36dbba69a6cf1ddb1b2cb087.jpg (deflated 15%)\n",
            "updating: content/datasetOutput/ProceduraFumettiAdaptiveThreshold-1/train/images/11_png.rf.386b4ae4b1c83ec96555959d3c0beede.jpg (deflated 1%)\n",
            "updating: content/datasetOutput/ProceduraFumettiAdaptiveThreshold-1/train/images/141_png.rf.4c20ec6c8b81bbb50065d12ce35001ab.jpg (deflated 2%)\n",
            "updating: content/datasetOutput/ProceduraFumettiAdaptiveThreshold-1/train/images/155_png.rf.38c773c06d7b0be661463c2603f37e9c.jpg (deflated 1%)\n",
            "updating: content/datasetOutput/ProceduraFumettiAdaptiveThreshold-1/train/images/115_png.rf.bd3ec756feb44a9ef2d39e5aa39a4f0e.jpg (deflated 1%)\n",
            "updating: content/datasetOutput/ProceduraFumettiAdaptiveThreshold-1/train/images/62_png.rf.aa3957bde9dc299a2486c16addb30a12.jpg (deflated 1%)\n",
            "updating: content/datasetOutput/ProceduraFumettiAdaptiveThreshold-1/train/images/176_png.rf.43fa05a004880892698eeccf2f181ea9.jpg (deflated 1%)\n",
            "updating: content/datasetOutput/ProceduraFumettiAdaptiveThreshold-1/train/images/57_png.rf.83978877033b21ba902eb3755d0fd387.jpg (deflated 1%)\n",
            "updating: content/datasetOutput/ProceduraFumettiAdaptiveThreshold-1/train/images/109_png.rf.7d1a8d0016ba1bc087287e9217517deb.jpg (deflated 0%)\n",
            "updating: content/datasetOutput/ProceduraFumettiAdaptiveThreshold-1/train/images/92_png.rf.5cf2145670b725d2a450c707abc86f61.jpg (deflated 0%)\n",
            "updating: content/datasetOutput/ProceduraFumettiAdaptiveThreshold-1/train/images/142_png.rf.949887dcb4e48923b38c1fb3e7e8e7e0.jpg (deflated 1%)\n",
            "updating: content/datasetOutput/ProceduraFumettiAdaptiveThreshold-1/train/images/131_png.rf.e9160e31a266dec5d0fc086d57c6f510.jpg (deflated 1%)\n",
            "updating: content/datasetOutput/ProceduraFumettiAdaptiveThreshold-1/train/images/87_png.rf.548a9de839d391f4500dbc720b5d21f3.jpg (deflated 1%)\n",
            "updating: content/datasetOutput/ProceduraFumettiAdaptiveThreshold-1/train/images/13_png.rf.82507ae5dcfbb5b4ca8860acdd00d86b.jpg (deflated 3%)\n",
            "updating: content/datasetOutput/ProceduraFumettiAdaptiveThreshold-1/train/images/150_png.rf.5ec0ea40e6aebf39e20d63de22116239.jpg (deflated 2%)\n",
            "updating: content/datasetOutput/ProceduraFumettiAdaptiveThreshold-1/train/images/14_png.rf.1db3597b191be4f7b9280d90e89f865d.jpg (deflated 1%)\n",
            "updating: content/datasetOutput/ProceduraFumettiAdaptiveThreshold-1/train/images/135_png.rf.c95c887047b716d5dc23d2160b62a72e.jpg (deflated 3%)\n",
            "updating: content/datasetOutput/ProceduraFumettiAdaptiveThreshold-1/train/labels/ (stored 0%)\n",
            "updating: content/datasetOutput/ProceduraFumettiAdaptiveThreshold-1/train/labels/152_png.rf.c64ce5cb694ccc2db25ec52bf70bff33.txt (deflated 60%)\n",
            "updating: content/datasetOutput/ProceduraFumettiAdaptiveThreshold-1/train/labels/127_png.rf.bf5815d7ea439c4cd2a60a564419ebf5.txt (deflated 59%)\n",
            "updating: content/datasetOutput/ProceduraFumettiAdaptiveThreshold-1/train/labels/23_png.rf.edd005314b075ef7cadc454815eede46.txt (deflated 60%)\n",
            "updating: content/datasetOutput/ProceduraFumettiAdaptiveThreshold-1/train/labels/41_png.rf.2a5eae29fc9d29b1b80f04dea68c887f.txt (deflated 60%)\n",
            "updating: content/datasetOutput/ProceduraFumettiAdaptiveThreshold-1/train/labels/28_png.rf.592bc9b317127181e4214a4c2b463083.txt (deflated 59%)\n",
            "updating: content/datasetOutput/ProceduraFumettiAdaptiveThreshold-1/train/labels/146_png.rf.ea5a703fca6a385247de0775d49d45fd.txt (deflated 59%)\n",
            "updating: content/datasetOutput/ProceduraFumettiAdaptiveThreshold-1/train/labels/174_png.rf.7b5c051642f936f2534b1e1731d1a6e9.txt (deflated 59%)\n",
            "updating: content/datasetOutput/ProceduraFumettiAdaptiveThreshold-1/train/labels/44_png.rf.ee18e5ecf4593a9fb6e824d7d1c01553.txt (deflated 59%)\n",
            "updating: content/datasetOutput/ProceduraFumettiAdaptiveThreshold-1/train/labels/188_png.rf.89f3e33d29e7e6e29f1aaf876c09e5bc.txt (deflated 59%)\n",
            "updating: content/datasetOutput/ProceduraFumettiAdaptiveThreshold-1/train/labels/176_png.rf.43fa05a004880892698eeccf2f181ea9.txt (deflated 60%)\n",
            "updating: content/datasetOutput/ProceduraFumettiAdaptiveThreshold-1/train/labels/69_png.rf.bf766cf23a95257734455bc152687e20.txt (deflated 62%)\n",
            "updating: content/datasetOutput/ProceduraFumettiAdaptiveThreshold-1/train/labels/1_png.rf.c00bf9838bc504a083a7324d93539f5c.txt (deflated 58%)\n",
            "updating: content/datasetOutput/ProceduraFumettiAdaptiveThreshold-1/train/labels/11_png.rf.386b4ae4b1c83ec96555959d3c0beede.txt (deflated 60%)\n",
            "updating: content/datasetOutput/ProceduraFumettiAdaptiveThreshold-1/train/labels/111_png.rf.9fb3e5af9e764a320aabe8f5b7b15bef.txt (deflated 61%)\n",
            "updating: content/datasetOutput/ProceduraFumettiAdaptiveThreshold-1/train/labels/21_png.rf.91e615559c9eede84954320b4ec28951.txt (deflated 60%)\n",
            "updating: content/datasetOutput/ProceduraFumettiAdaptiveThreshold-1/train/labels/31_png.rf.ffec408576779aaa0a345c4cfde574da.txt (deflated 62%)\n",
            "updating: content/datasetOutput/ProceduraFumettiAdaptiveThreshold-1/train/labels/87_png.rf.548a9de839d391f4500dbc720b5d21f3.txt (deflated 63%)\n",
            "updating: content/datasetOutput/ProceduraFumettiAdaptiveThreshold-1/train/labels/78_png.rf.7e948f7f007ba5a4e0b1f05f027f7cdf.txt (deflated 58%)\n",
            "updating: content/datasetOutput/ProceduraFumettiAdaptiveThreshold-1/train/labels/15_png.rf.2e1c9b4de9eba1f8f213a40bb2773097.txt (deflated 59%)\n",
            "updating: content/datasetOutput/ProceduraFumettiAdaptiveThreshold-1/train/labels/35_png.rf.9629dcb705c0dd01fc427a31c745e1a5.txt (deflated 59%)\n",
            "updating: content/datasetOutput/ProceduraFumettiAdaptiveThreshold-1/train/labels/49_png.rf.72807acc3a8d083fa3f40ffbf712d36b.txt (deflated 59%)\n",
            "updating: content/datasetOutput/ProceduraFumettiAdaptiveThreshold-1/train/labels/96_png.rf.70284205e1c20bda32207a502fb61f33.txt (deflated 57%)\n",
            "updating: content/datasetOutput/ProceduraFumettiAdaptiveThreshold-1/train/labels/94_png.rf.a23674579bae802c28b75607d3906b78.txt (deflated 58%)\n",
            "updating: content/datasetOutput/ProceduraFumettiAdaptiveThreshold-1/train/labels/170_png.rf.78ddc12468defebff6766fed617101cd.txt (deflated 60%)\n",
            "updating: content/datasetOutput/ProceduraFumettiAdaptiveThreshold-1/train/labels/80_png.rf.c694bc7c263032a75180a741f05ec30f.txt (deflated 59%)\n",
            "updating: content/datasetOutput/ProceduraFumettiAdaptiveThreshold-1/train/labels/57_png.rf.83978877033b21ba902eb3755d0fd387.txt (deflated 59%)\n",
            "updating: content/datasetOutput/ProceduraFumettiAdaptiveThreshold-1/train/labels/6_png.rf.72b232212277662104d39fb77cbd9028.txt (deflated 60%)\n",
            "updating: content/datasetOutput/ProceduraFumettiAdaptiveThreshold-1/train/labels/10_png.rf.997e105ba026a4eba31948a8dec0e39d.txt (deflated 59%)\n",
            "updating: content/datasetOutput/ProceduraFumettiAdaptiveThreshold-1/train/labels/192_png.rf.48c68f7cd84ff43ee0334da30d7192b2.txt (deflated 59%)\n",
            "updating: content/datasetOutput/ProceduraFumettiAdaptiveThreshold-1/train/labels/136_png.rf.efcba15160d313ce8249bcd93a344591.txt (deflated 59%)\n",
            "updating: content/datasetOutput/ProceduraFumettiAdaptiveThreshold-1/train/labels/5_png.rf.4e32eb2ba490f4a8fed15a3eedf484bb.txt (deflated 60%)\n",
            "updating: content/datasetOutput/ProceduraFumettiAdaptiveThreshold-1/train/labels/199_png.rf.27ec5930e49cf69a3b529fe17b8b021b.txt (deflated 60%)\n",
            "updating: content/datasetOutput/ProceduraFumettiAdaptiveThreshold-1/train/labels/48_png.rf.d5833a750edae9a1e0f01cad006ec25d.txt (deflated 58%)\n",
            "updating: content/datasetOutput/ProceduraFumettiAdaptiveThreshold-1/train/labels/39_png.rf.e0838f807bb118dc7a19ed2337637f8c.txt (deflated 61%)\n",
            "updating: content/datasetOutput/ProceduraFumettiAdaptiveThreshold-1/train/labels/128_png.rf.ec738a6deca34c92a48b10e2a2126902.txt (deflated 58%)\n",
            "updating: content/datasetOutput/ProceduraFumettiAdaptiveThreshold-1/train/labels/154_png.rf.78af5df2174018fec242d0d8763ae077.txt (deflated 59%)\n",
            "updating: content/datasetOutput/ProceduraFumettiAdaptiveThreshold-1/train/labels/47_png.rf.42e9c3b742c82377106ee17d9c25dd18.txt (deflated 59%)\n",
            "updating: content/datasetOutput/ProceduraFumettiAdaptiveThreshold-1/train/labels/36_png.rf.af091c4446c63eb231ce29d71d894e15.txt (deflated 59%)\n",
            "updating: content/datasetOutput/ProceduraFumettiAdaptiveThreshold-1/train/labels/30_png.rf.bc443603d9e82eef6f52c7e38f312bc9.txt (deflated 60%)\n",
            "updating: content/datasetOutput/ProceduraFumettiAdaptiveThreshold-1/train/labels/117_png.rf.a02fa00f59dbeca12843b9370937e31c.txt (deflated 59%)\n",
            "updating: content/datasetOutput/ProceduraFumettiAdaptiveThreshold-1/train/labels/20_png.rf.310eb4d61be6ae1662ff3d37131eb09f.txt (stored 0%)\n",
            "updating: content/datasetOutput/ProceduraFumettiAdaptiveThreshold-1/train/labels/194_png.rf.e2d966f1ca210cbf83d99b18b837becc.txt (deflated 59%)\n",
            "updating: content/datasetOutput/ProceduraFumettiAdaptiveThreshold-1/train/labels/61_png.rf.c892802dcc5272ae2426ccb9d1d62f15.txt (deflated 64%)\n",
            "updating: content/datasetOutput/ProceduraFumettiAdaptiveThreshold-1/train/labels/4_png.rf.dbc9ae60387aaa867218f862f238b559.txt (deflated 58%)\n",
            "updating: content/datasetOutput/ProceduraFumettiAdaptiveThreshold-1/train/labels/56_png.rf.94fecfb7335fc73ec354be51c7eb5bcc.txt (deflated 58%)\n",
            "updating: content/datasetOutput/ProceduraFumettiAdaptiveThreshold-1/train/labels/196_png.rf.250af9f96ba89d46e2037bfdd12e4118.txt (deflated 59%)\n",
            "updating: content/datasetOutput/ProceduraFumettiAdaptiveThreshold-1/train/labels/120_png.rf.2a8f509badb48d603c951c105f4109b5.txt (deflated 60%)\n",
            "updating: content/datasetOutput/ProceduraFumettiAdaptiveThreshold-1/train/labels/14_png.rf.1db3597b191be4f7b9280d90e89f865d.txt (deflated 58%)\n",
            "updating: content/datasetOutput/ProceduraFumettiAdaptiveThreshold-1/train/labels/79_png.rf.42d6f302b145c1a168c1e2f6d900facc.txt (deflated 59%)\n",
            "updating: content/datasetOutput/ProceduraFumettiAdaptiveThreshold-1/train/labels/121_png.rf.0785df65c338d676aa1ecd363464b4bc.txt (deflated 58%)\n",
            "updating: content/datasetOutput/ProceduraFumettiAdaptiveThreshold-1/train/labels/190_png.rf.4f2d4618649e6795555276119940ec7b.txt (deflated 59%)\n",
            "updating: content/datasetOutput/ProceduraFumettiAdaptiveThreshold-1/train/labels/92_png.rf.5cf2145670b725d2a450c707abc86f61.txt (deflated 63%)\n",
            "updating: content/datasetOutput/ProceduraFumettiAdaptiveThreshold-1/train/labels/142_png.rf.949887dcb4e48923b38c1fb3e7e8e7e0.txt (deflated 60%)\n",
            "updating: content/datasetOutput/ProceduraFumettiAdaptiveThreshold-1/train/labels/101_png.rf.1192c4cfea4b3e3bb4dbb8647c8bf27d.txt (deflated 57%)\n",
            "updating: content/datasetOutput/ProceduraFumettiAdaptiveThreshold-1/train/labels/91_png.rf.67f35bded9a76b798b9bddebb0b962d6.txt (deflated 62%)\n",
            "updating: content/datasetOutput/ProceduraFumettiAdaptiveThreshold-1/train/labels/73_png.rf.9c1e3c26a8a1d5f37cfb3b02d588cfc4.txt (deflated 64%)\n",
            "updating: content/datasetOutput/ProceduraFumettiAdaptiveThreshold-1/train/labels/75_png.rf.5b05e8d78c912d16c1215287cdee6f0c.txt (deflated 63%)\n",
            "updating: content/datasetOutput/ProceduraFumettiAdaptiveThreshold-1/train/labels/55_png.rf.33acbc29d915cf1a2e1b1aa94daa9080.txt (deflated 58%)\n",
            "updating: content/datasetOutput/ProceduraFumettiAdaptiveThreshold-1/train/labels/171_png.rf.8829b59505da36e864ff189a6904c232.txt (deflated 58%)\n",
            "updating: content/datasetOutput/ProceduraFumettiAdaptiveThreshold-1/train/labels/16_png.rf.c22570579231150f917e5693f1885915.txt (deflated 58%)\n",
            "updating: content/datasetOutput/ProceduraFumettiAdaptiveThreshold-1/train/labels/29_png.rf.480b9283482cff3e8575c2b78cf36e34.txt (deflated 58%)\n",
            "updating: content/datasetOutput/ProceduraFumettiAdaptiveThreshold-1/train/labels/110_png.rf.e52961ff8218189f1fdc812a1e311baa.txt (deflated 62%)\n",
            "updating: content/datasetOutput/ProceduraFumettiAdaptiveThreshold-1/train/labels/155_png.rf.38c773c06d7b0be661463c2603f37e9c.txt (deflated 57%)\n",
            "updating: content/datasetOutput/ProceduraFumettiAdaptiveThreshold-1/train/labels/156_png.rf.25544ec310b0c7cdac145ae0b92a3cc2.txt (deflated 59%)\n",
            "updating: content/datasetOutput/ProceduraFumettiAdaptiveThreshold-1/train/labels/114_png.rf.8cd98d3a36dbba69a6cf1ddb1b2cb087.txt (deflated 58%)\n",
            "updating: content/datasetOutput/ProceduraFumettiAdaptiveThreshold-1/train/labels/161_png.rf.dd692daf11868e733f871ac7f66df567.txt (deflated 59%)\n",
            "updating: content/datasetOutput/ProceduraFumettiAdaptiveThreshold-1/train/labels/64_png.rf.e37e49d7f47cd9278019ca5042a07a8e.txt (deflated 62%)\n",
            "updating: content/datasetOutput/ProceduraFumettiAdaptiveThreshold-1/train/labels/104_png.rf.af82638981ce8eaafa6a170997da9644.txt (deflated 60%)\n",
            "updating: content/datasetOutput/ProceduraFumettiAdaptiveThreshold-1/train/labels/133_png.rf.ce705103a28eb907402bd7fd09702be2.txt (deflated 60%)\n",
            "updating: content/datasetOutput/ProceduraFumettiAdaptiveThreshold-1/train/labels/88_png.rf.0173acd58213c8e8b1ab5a51261effd4.txt (deflated 60%)\n",
            "updating: content/datasetOutput/ProceduraFumettiAdaptiveThreshold-1/train/labels/131_png.rf.e9160e31a266dec5d0fc086d57c6f510.txt (deflated 59%)\n",
            "updating: content/datasetOutput/ProceduraFumettiAdaptiveThreshold-1/train/labels/138_png.rf.7a6b92ec68a74ed88b2d1d81c194409d.txt (deflated 60%)\n",
            "updating: content/datasetOutput/ProceduraFumettiAdaptiveThreshold-1/train/labels/129_png.rf.ada8cb53dd869c3a371439c7fd3355d8.txt (deflated 59%)\n",
            "updating: content/datasetOutput/ProceduraFumettiAdaptiveThreshold-1/train/labels/187_png.rf.b1e36bd10ada2c6044e6c06f96f1bc40.txt (deflated 59%)\n",
            "updating: content/datasetOutput/ProceduraFumettiAdaptiveThreshold-1/train/labels/124_png.rf.ac7d31d3293703975ceeb28e5911c28d.txt (deflated 58%)\n",
            "updating: content/datasetOutput/ProceduraFumettiAdaptiveThreshold-1/train/labels/71_png.rf.7560c13ba43c31693fafc067d14d9921.txt (deflated 63%)\n",
            "updating: content/datasetOutput/ProceduraFumettiAdaptiveThreshold-1/train/labels/144_png.rf.85933eb070c2c0a0b038a26c7654f82d.txt (deflated 60%)\n",
            "updating: content/datasetOutput/ProceduraFumettiAdaptiveThreshold-1/train/labels/25_png.rf.233b27dd36c05a11b1b78f54b48ecac6.txt (deflated 59%)\n",
            "updating: content/datasetOutput/ProceduraFumettiAdaptiveThreshold-1/train/labels/135_png.rf.c95c887047b716d5dc23d2160b62a72e.txt (deflated 59%)\n",
            "updating: content/datasetOutput/ProceduraFumettiAdaptiveThreshold-1/train/labels/150_png.rf.5ec0ea40e6aebf39e20d63de22116239.txt (deflated 61%)\n",
            "updating: content/datasetOutput/ProceduraFumettiAdaptiveThreshold-1/train/labels/82_png.rf.896368b787483e5f9cbf4e4918bfc20b.txt (deflated 60%)\n",
            "updating: content/datasetOutput/ProceduraFumettiAdaptiveThreshold-1/train/labels/168_png.rf.c5586ff1591828ac65b725e6af3e71ea.txt (deflated 57%)\n",
            "updating: content/datasetOutput/ProceduraFumettiAdaptiveThreshold-1/train/labels/173_png.rf.9d44cc128323dcd79a4bc6520a616886.txt (deflated 59%)\n",
            "updating: content/datasetOutput/ProceduraFumettiAdaptiveThreshold-1/train/labels/81_png.rf.0881bfb25e385337ea1b2b1dbb613e31.txt (deflated 59%)\n",
            "updating: content/datasetOutput/ProceduraFumettiAdaptiveThreshold-1/train/labels/9_png.rf.694c7fbf7b11ab3d11c8be04020b9347.txt (deflated 58%)\n",
            "updating: content/datasetOutput/ProceduraFumettiAdaptiveThreshold-1/train/labels/126_png.rf.d9dac4489a7d1daa4168fba6366fa598.txt (deflated 59%)\n",
            "updating: content/datasetOutput/ProceduraFumettiAdaptiveThreshold-1/train/labels/141_png.rf.4c20ec6c8b81bbb50065d12ce35001ab.txt (deflated 58%)\n",
            "updating: content/datasetOutput/ProceduraFumettiAdaptiveThreshold-1/train/labels/109_png.rf.7d1a8d0016ba1bc087287e9217517deb.txt (deflated 59%)\n",
            "updating: content/datasetOutput/ProceduraFumettiAdaptiveThreshold-1/train/labels/97_png.rf.ab3cfe722aca01319524fa0ce867288e.txt (deflated 58%)\n",
            "updating: content/datasetOutput/ProceduraFumettiAdaptiveThreshold-1/train/labels/164_png.rf.7fe62665bb7692027fbd927bf027b7e3.txt (deflated 60%)\n",
            "updating: content/datasetOutput/ProceduraFumettiAdaptiveThreshold-1/train/labels/198_png.rf.c0337028d74eb965f8d1b0e74e09f3fa.txt (deflated 58%)\n",
            "updating: content/datasetOutput/ProceduraFumettiAdaptiveThreshold-1/train/labels/153_png.rf.86e37ec58f8153e1ec83409aaff3b6bc.txt (deflated 59%)\n",
            "updating: content/datasetOutput/ProceduraFumettiAdaptiveThreshold-1/train/labels/12_png.rf.0cba5a73ae79ad825a4efb3986b11605.txt (deflated 58%)\n",
            "updating: content/datasetOutput/ProceduraFumettiAdaptiveThreshold-1/train/labels/115_png.rf.bd3ec756feb44a9ef2d39e5aa39a4f0e.txt (deflated 58%)\n",
            "updating: content/datasetOutput/ProceduraFumettiAdaptiveThreshold-1/train/labels/162_png.rf.14779c5734e6f4b3666c82fe9ef7a84b.txt (deflated 60%)\n",
            "updating: content/datasetOutput/ProceduraFumettiAdaptiveThreshold-1/train/labels/191_png.rf.075e553486cbaa43d20babc15e66599b.txt (deflated 57%)\n",
            "updating: content/datasetOutput/ProceduraFumettiAdaptiveThreshold-1/train/labels/26_png.rf.4233498b1fb3d5d68ba96a29f9ccf1f2.txt (deflated 58%)\n",
            "updating: content/datasetOutput/ProceduraFumettiAdaptiveThreshold-1/train/labels/62_png.rf.aa3957bde9dc299a2486c16addb30a12.txt (deflated 59%)\n",
            "updating: content/datasetOutput/ProceduraFumettiAdaptiveThreshold-1/train/labels/165_png.rf.c2768c651568d1b4976487c960b72e78.txt (deflated 59%)\n",
            "updating: content/datasetOutput/ProceduraFumettiAdaptiveThreshold-1/train/labels/180_png.rf.4abd4a440e0672ebc05bddb34117130b.txt (deflated 61%)\n",
            "updating: content/datasetOutput/ProceduraFumettiAdaptiveThreshold-1/train/labels/149_png.rf.08e8e6959cc6a191e122795f8e9a8a26.txt (deflated 59%)\n",
            "updating: content/datasetOutput/ProceduraFumettiAdaptiveThreshold-1/train/labels/182_png.rf.8c16f03796ffaa0d61c1de01979ae19e.txt (deflated 61%)\n",
            "updating: content/datasetOutput/ProceduraFumettiAdaptiveThreshold-1/train/labels/163_png.rf.eac7a8ea47b583a431ca0a0df6aafdae.txt (deflated 58%)\n",
            "updating: content/datasetOutput/ProceduraFumettiAdaptiveThreshold-1/train/labels/172_png.rf.7d1d8721c459a73deeacf089a4c5c878.txt (deflated 59%)\n",
            "updating: content/datasetOutput/ProceduraFumettiAdaptiveThreshold-1/train/labels/3_png.rf.826994733d1e9b99f45e77f157c5690a.txt (deflated 58%)\n",
            "updating: content/datasetOutput/ProceduraFumettiAdaptiveThreshold-1/train/labels/7_png.rf.8c551b82fa5da9fcdc97477451836bb8.txt (deflated 59%)\n",
            "updating: content/datasetOutput/ProceduraFumettiAdaptiveThreshold-1/train/labels/19_png.rf.eac9fece81b5fc9ac1aa236fb1050cee.txt (deflated 59%)\n",
            "updating: content/datasetOutput/ProceduraFumettiAdaptiveThreshold-1/train/labels/2_png.rf.01657e443540b26845281be606d0eaef.txt (deflated 59%)\n",
            "updating: content/datasetOutput/ProceduraFumettiAdaptiveThreshold-1/train/labels/90_png.rf.8ded8c60dc78372107820e833e3051f1.txt (deflated 58%)\n",
            "updating: content/datasetOutput/ProceduraFumettiAdaptiveThreshold-1/train/labels/54_png.rf.0a21ca715e9eb4c4d629dcb60f7507d6.txt (deflated 59%)\n",
            "updating: content/datasetOutput/ProceduraFumettiAdaptiveThreshold-1/train/labels/38_png.rf.76a92f798caa41c66a076bd86ea5d3ee.txt (deflated 60%)\n",
            "updating: content/datasetOutput/ProceduraFumettiAdaptiveThreshold-1/train/labels/22_png.rf.3c732a5bf814321f5bcfbe4ed6ab897b.txt (deflated 59%)\n",
            "updating: content/datasetOutput/ProceduraFumettiAdaptiveThreshold-1/train/labels/200_png.rf.aa4f73da7bd4a42973b1be73cde9844c.txt (deflated 59%)\n",
            "updating: content/datasetOutput/ProceduraFumettiAdaptiveThreshold-1/train/labels/68_png.rf.f19980348424759314532abafa0841bd.txt (deflated 60%)\n",
            "updating: content/datasetOutput/ProceduraFumettiAdaptiveThreshold-1/train/labels/95_png.rf.a4b6b33e655fcfa7236981f12874e522.txt (deflated 63%)\n",
            "updating: content/datasetOutput/ProceduraFumettiAdaptiveThreshold-1/train/labels/119_png.rf.201de0030bc44a29fcd7e1a86a1ec585.txt (deflated 58%)\n",
            "updating: content/datasetOutput/ProceduraFumettiAdaptiveThreshold-1/train/labels/24_png.rf.b40fca2142fe68b300af1da4e70f7f19.txt (deflated 61%)\n",
            "updating: content/datasetOutput/ProceduraFumettiAdaptiveThreshold-1/train/labels/107_png.rf.05f7ee1b2076d1ee129562d958c4bdda.txt (deflated 62%)\n",
            "updating: content/datasetOutput/ProceduraFumettiAdaptiveThreshold-1/train/labels/123_png.rf.5c2edec96defb7f49039880e0d01199d.txt (deflated 58%)\n",
            "updating: content/datasetOutput/ProceduraFumettiAdaptiveThreshold-1/train/labels/43_png.rf.590cb1503d8f38df87b905c2bd5990e8.txt (deflated 58%)\n",
            "updating: content/datasetOutput/ProceduraFumettiAdaptiveThreshold-1/train/labels/105_png.rf.90776357944378a530bbd9effddcd789.txt (deflated 63%)\n",
            "updating: content/datasetOutput/ProceduraFumettiAdaptiveThreshold-1/train/labels/51_png.rf.badbdf06ffc2049d4905cf57752dad72.txt (deflated 59%)\n",
            "updating: content/datasetOutput/ProceduraFumettiAdaptiveThreshold-1/train/labels/113_png.rf.e7f15f87378e49af4b31087b6491b266.txt (deflated 57%)\n",
            "updating: content/datasetOutput/ProceduraFumettiAdaptiveThreshold-1/train/labels/59_png.rf.41ced66a6a2d479eb7e8fafce8133c34.txt (deflated 57%)\n",
            "updating: content/datasetOutput/ProceduraFumettiAdaptiveThreshold-1/train/labels/122_png.rf.626eca5be21b952d4398b581f7e858f8.txt (deflated 60%)\n",
            "updating: content/datasetOutput/ProceduraFumettiAdaptiveThreshold-1/train/labels/74_png.rf.84317050f3b7a35428a07eae10805443.txt (deflated 63%)\n",
            "updating: content/datasetOutput/ProceduraFumettiAdaptiveThreshold-1/train/labels/175_png.rf.421decfc23f0cd393af46aefb3ef2b1d.txt (deflated 59%)\n",
            "updating: content/datasetOutput/ProceduraFumettiAdaptiveThreshold-1/train/labels/85_png.rf.5911fae2d061a34b3ef132366fcccaf4.txt (deflated 58%)\n",
            "updating: content/datasetOutput/ProceduraFumettiAdaptiveThreshold-1/train/labels/100_png.rf.3850ce1dee9bf70d57090e52df2f22fc.txt (stored 0%)\n",
            "updating: content/datasetOutput/ProceduraFumettiAdaptiveThreshold-1/train/labels/125_png.rf.bbd7baf820baa33b1f86dbdffb2b1545.txt (deflated 60%)\n",
            "updating: content/datasetOutput/ProceduraFumettiAdaptiveThreshold-1/train/labels/58_png.rf.d27e26f3c1855ca7ca565d4e1ddebde3.txt (deflated 58%)\n",
            "updating: content/datasetOutput/ProceduraFumettiAdaptiveThreshold-1/train/labels/13_png.rf.82507ae5dcfbb5b4ca8860acdd00d86b.txt (deflated 59%)\n",
            "updating: content/datasetOutput/ProceduraFumettiAdaptiveThreshold-1/train/labels/158_png.rf.5f5f29efe6eba444a0daf6f3aa4cc7a7.txt (deflated 59%)\n",
            "updating: content/datasetOutput/ProceduraFumettiAdaptiveThreshold-1/train/labels/108_png.rf.8c708b309efebe61002f7aa363b28707.txt (deflated 59%)\n",
            "updating: content/datasetOutput/ProceduraFumettiAdaptiveThreshold-1/train/labels/148_png.rf.7183a89373cbce2a248b9fd8bfcc3fa0.txt (deflated 58%)\n",
            "updating: content/datasetOutput/ProceduraFumettiAdaptiveThreshold-1/train/labels/134_png.rf.6f843d19ea849261474a0d803a0aefbe.txt (deflated 57%)\n",
            "updating: content/datasetOutput/ProceduraFumettiAdaptiveThreshold-1/train/labels/70_png.rf.3024a1e0968cd99a2428a37a968c4c1f.txt (deflated 60%)\n",
            "updating: content/datasetOutput/ProceduraFumettiAdaptiveThreshold-1/train/labels/184_png.rf.11f5793b6cda5ca5f648bb08f60413f0.txt (deflated 62%)\n",
            "updating: content/datasetOutput/ProceduraFumettiAdaptiveThreshold-1/train/labels/50_png.rf.a599f33f6cf69d2b5dd45f825d6969fb.txt (deflated 60%)\n",
            "updating: content/datasetOutput/ProceduraFumettiAdaptiveThreshold-1/train/labels/76_png.rf.4bece5b5c3dbc42670cf5fb95a0e37f2.txt (deflated 61%)\n",
            "updating: content/datasetOutput/ProceduraFumettiAdaptiveThreshold-1/README.roboflow.txt (deflated 41%)\n",
            "updating: content/datasetOutput/ProceduraFumettiAdaptiveThreshold-1/data.yaml (deflated 41%)\n",
            "updating: content/datasetOutput/ProceduraFumettiAdaptiveThreshold-1/README.dataset.txt (deflated 19%)\n",
            "updating: content/datasetOutput/ProceduraFumettiAdaptiveThreshold-1/test/ (stored 0%)\n",
            "updating: content/datasetOutput/ProceduraFumettiAdaptiveThreshold-1/test/images/ (stored 0%)\n",
            "updating: content/datasetOutput/ProceduraFumettiAdaptiveThreshold-1/test/images/130_png.rf.85c569b90627a15131cb86d080780898.jpg (deflated 2%)\n",
            "updating: content/datasetOutput/ProceduraFumettiAdaptiveThreshold-1/test/images/66_png.rf.e91392a12bc4f36963ad49e83274aeb3.jpg (deflated 2%)\n",
            "updating: content/datasetOutput/ProceduraFumettiAdaptiveThreshold-1/test/images/83_png.rf.bdf525971d4541ce96da2d3247514595.jpg (deflated 2%)\n",
            "updating: content/datasetOutput/ProceduraFumettiAdaptiveThreshold-1/test/images/106_png.rf.013fca7f9179511c8541721461640b34.jpg (deflated 2%)\n",
            "updating: content/datasetOutput/ProceduraFumettiAdaptiveThreshold-1/test/images/52_png.rf.4e40b34bc78087a39cb638e4b21c79ce.jpg (deflated 1%)\n",
            "updating: content/datasetOutput/ProceduraFumettiAdaptiveThreshold-1/test/images/186_png.rf.d56c21a74da84dc2370144261a40e156.jpg (deflated 1%)\n",
            "updating: content/datasetOutput/ProceduraFumettiAdaptiveThreshold-1/test/images/53_png.rf.9e5905839f0a3f356127c179e6291c3d.jpg (deflated 1%)\n",
            "updating: content/datasetOutput/ProceduraFumettiAdaptiveThreshold-1/test/images/72_png.rf.ae334966c9c00c5ed027679fff6bcc21.jpg (deflated 1%)\n",
            "updating: content/datasetOutput/ProceduraFumettiAdaptiveThreshold-1/test/images/169_png.rf.9ee7dfea2e2a8b59bf7d201ae853c003.jpg (deflated 3%)\n",
            "updating: content/datasetOutput/ProceduraFumettiAdaptiveThreshold-1/test/images/46_png.rf.1804585a41351a227318dd7747b58d2d.jpg (deflated 1%)\n",
            "updating: content/datasetOutput/ProceduraFumettiAdaptiveThreshold-1/test/images/37_png.rf.ca6b2f209b24ee3a9feac87436046469.jpg (deflated 1%)\n",
            "updating: content/datasetOutput/ProceduraFumettiAdaptiveThreshold-1/test/images/32_png.rf.a64d555738b664f887459ff31bcb4639.jpg (deflated 1%)\n",
            "updating: content/datasetOutput/ProceduraFumettiAdaptiveThreshold-1/test/images/33_png.rf.aa600ff64ce7e8b70865c710e31a4068.jpg (deflated 1%)\n",
            "updating: content/datasetOutput/ProceduraFumettiAdaptiveThreshold-1/test/images/18_png.rf.a84a195fba9b7e21eb992c33fb4f6438.jpg (deflated 1%)\n",
            "updating: content/datasetOutput/ProceduraFumettiAdaptiveThreshold-1/test/images/179_png.rf.552152c78801cb158fa17b3fc972e021.jpg (deflated 2%)\n",
            "updating: content/datasetOutput/ProceduraFumettiAdaptiveThreshold-1/test/images/84_png.rf.595aa1f72cbd5144a0900c5c71450d7b.jpg (deflated 0%)\n",
            "updating: content/datasetOutput/ProceduraFumettiAdaptiveThreshold-1/test/images/181_png.rf.c7e987eaa0ebb43fd897b39d095caa82.jpg (deflated 1%)\n",
            "updating: content/datasetOutput/ProceduraFumettiAdaptiveThreshold-1/test/images/160_png.rf.b5c2de63b5d1c7c9af00557ca01e7668.jpg (deflated 1%)\n",
            "updating: content/datasetOutput/ProceduraFumettiAdaptiveThreshold-1/test/images/183_png.rf.65f191b4f9f2cd350e708b50b7e93dd2.jpg (deflated 1%)\n",
            "updating: content/datasetOutput/ProceduraFumettiAdaptiveThreshold-1/test/images/116_png.rf.ed1cfe6c27750e3f3c3577f0178f0487.jpg (deflated 2%)\n",
            "updating: content/datasetOutput/ProceduraFumettiAdaptiveThreshold-1/test/labels/ (stored 0%)\n",
            "updating: content/datasetOutput/ProceduraFumettiAdaptiveThreshold-1/test/labels/183_png.rf.65f191b4f9f2cd350e708b50b7e93dd2.txt (deflated 60%)\n",
            "updating: content/datasetOutput/ProceduraFumettiAdaptiveThreshold-1/test/labels/52_png.rf.4e40b34bc78087a39cb638e4b21c79ce.txt (deflated 58%)\n",
            "updating: content/datasetOutput/ProceduraFumettiAdaptiveThreshold-1/test/labels/181_png.rf.c7e987eaa0ebb43fd897b39d095caa82.txt (deflated 59%)\n",
            "updating: content/datasetOutput/ProceduraFumettiAdaptiveThreshold-1/test/labels/18_png.rf.a84a195fba9b7e21eb992c33fb4f6438.txt (deflated 60%)\n",
            "updating: content/datasetOutput/ProceduraFumettiAdaptiveThreshold-1/test/labels/130_png.rf.85c569b90627a15131cb86d080780898.txt (deflated 59%)\n",
            "updating: content/datasetOutput/ProceduraFumettiAdaptiveThreshold-1/test/labels/72_png.rf.ae334966c9c00c5ed027679fff6bcc21.txt (deflated 59%)\n",
            "updating: content/datasetOutput/ProceduraFumettiAdaptiveThreshold-1/test/labels/32_png.rf.a64d555738b664f887459ff31bcb4639.txt (deflated 59%)\n",
            "updating: content/datasetOutput/ProceduraFumettiAdaptiveThreshold-1/test/labels/66_png.rf.e91392a12bc4f36963ad49e83274aeb3.txt (deflated 60%)\n",
            "updating: content/datasetOutput/ProceduraFumettiAdaptiveThreshold-1/test/labels/84_png.rf.595aa1f72cbd5144a0900c5c71450d7b.txt (deflated 63%)\n",
            "updating: content/datasetOutput/ProceduraFumettiAdaptiveThreshold-1/test/labels/186_png.rf.d56c21a74da84dc2370144261a40e156.txt (deflated 59%)\n",
            "updating: content/datasetOutput/ProceduraFumettiAdaptiveThreshold-1/test/labels/33_png.rf.aa600ff64ce7e8b70865c710e31a4068.txt (deflated 59%)\n",
            "updating: content/datasetOutput/ProceduraFumettiAdaptiveThreshold-1/test/labels/116_png.rf.ed1cfe6c27750e3f3c3577f0178f0487.txt (deflated 59%)\n",
            "updating: content/datasetOutput/ProceduraFumettiAdaptiveThreshold-1/test/labels/169_png.rf.9ee7dfea2e2a8b59bf7d201ae853c003.txt (deflated 59%)\n",
            "updating: content/datasetOutput/ProceduraFumettiAdaptiveThreshold-1/test/labels/160_png.rf.b5c2de63b5d1c7c9af00557ca01e7668.txt (deflated 59%)\n",
            "updating: content/datasetOutput/ProceduraFumettiAdaptiveThreshold-1/test/labels/53_png.rf.9e5905839f0a3f356127c179e6291c3d.txt (deflated 59%)\n",
            "updating: content/datasetOutput/ProceduraFumettiAdaptiveThreshold-1/test/labels/46_png.rf.1804585a41351a227318dd7747b58d2d.txt (deflated 60%)\n",
            "updating: content/datasetOutput/ProceduraFumettiAdaptiveThreshold-1/test/labels/37_png.rf.ca6b2f209b24ee3a9feac87436046469.txt (deflated 58%)\n",
            "updating: content/datasetOutput/ProceduraFumettiAdaptiveThreshold-1/test/labels/83_png.rf.bdf525971d4541ce96da2d3247514595.txt (deflated 59%)\n",
            "updating: content/datasetOutput/ProceduraFumettiAdaptiveThreshold-1/test/labels/179_png.rf.552152c78801cb158fa17b3fc972e021.txt (deflated 59%)\n",
            "updating: content/datasetOutput/ProceduraFumettiAdaptiveThreshold-1/test/labels/106_png.rf.013fca7f9179511c8541721461640b34.txt (deflated 60%)\n",
            "updating: content/datasetOutput/ProceduraFumettiAdaptiveThreshold-1/valid/ (stored 0%)\n",
            "updating: content/datasetOutput/ProceduraFumettiAdaptiveThreshold-1/valid/images/ (stored 0%)\n",
            "updating: content/datasetOutput/ProceduraFumettiAdaptiveThreshold-1/valid/images/93_png.rf.00cc97644a22ea55191c95ef32b213a2.jpg (deflated 1%)\n",
            "updating: content/datasetOutput/ProceduraFumettiAdaptiveThreshold-1/valid/images/145_png.rf.a356f2a59af1a437b7da4e481e886741.jpg (deflated 2%)\n",
            "updating: content/datasetOutput/ProceduraFumettiAdaptiveThreshold-1/valid/images/167_png.rf.91d2bb511bcb99bb3e89375289401c4c.jpg (deflated 1%)\n",
            "updating: content/datasetOutput/ProceduraFumettiAdaptiveThreshold-1/valid/images/189_png.rf.7fee50cc00238ce4bec6af1c4f982540.jpg (deflated 1%)\n",
            "updating: content/datasetOutput/ProceduraFumettiAdaptiveThreshold-1/valid/images/63_png.rf.e45fd074349a69986f5ee468faa50a8d.jpg (deflated 1%)\n",
            "updating: content/datasetOutput/ProceduraFumettiAdaptiveThreshold-1/valid/images/118_png.rf.f16596871431f4496920d61ac0437909.jpg (deflated 1%)\n",
            "updating: content/datasetOutput/ProceduraFumettiAdaptiveThreshold-1/valid/images/147_png.rf.9c34e9dd35a0a196d1e48752381ce846.jpg (deflated 1%)\n",
            "updating: content/datasetOutput/ProceduraFumettiAdaptiveThreshold-1/valid/images/103_png.rf.ab068ca6bdb60f241c64839a078a76ed.jpg (deflated 1%)\n",
            "updating: content/datasetOutput/ProceduraFumettiAdaptiveThreshold-1/valid/images/40_png.rf.14563a5a2cdb2eb3eb657fc8d0efbe5a.jpg (deflated 1%)\n",
            "updating: content/datasetOutput/ProceduraFumettiAdaptiveThreshold-1/valid/images/86_png.rf.39645522521270e9601317bb6005a86d.jpg (deflated 4%)\n",
            "updating: content/datasetOutput/ProceduraFumettiAdaptiveThreshold-1/valid/images/45_png.rf.bbb839f298377a1e9b46c07d777b757d.jpg (deflated 1%)\n",
            "updating: content/datasetOutput/ProceduraFumettiAdaptiveThreshold-1/valid/images/99_png.rf.77188d1c388e220dea650aa246e432ee.jpg (deflated 4%)\n",
            "updating: content/datasetOutput/ProceduraFumettiAdaptiveThreshold-1/valid/images/137_png.rf.f5699d608d4ec87d6ebd9eaf7033ef6b.jpg (deflated 2%)\n",
            "updating: content/datasetOutput/ProceduraFumettiAdaptiveThreshold-1/valid/images/159_png.rf.f10acdf242dc20a8cd8598675c7bfe98.jpg (deflated 1%)\n",
            "updating: content/datasetOutput/ProceduraFumettiAdaptiveThreshold-1/valid/images/60_png.rf.2b35d8e9657bafa76f9dabe7fe80cbbb.jpg (deflated 1%)\n",
            "updating: content/datasetOutput/ProceduraFumettiAdaptiveThreshold-1/valid/images/177_png.rf.a0a342aff968c7d7c3f32ad1944d18a0.jpg (deflated 1%)\n",
            "updating: content/datasetOutput/ProceduraFumettiAdaptiveThreshold-1/valid/images/89_png.rf.473c4a5e92d80c0d699d3b1e5b16d557.jpg (deflated 1%)\n",
            "updating: content/datasetOutput/ProceduraFumettiAdaptiveThreshold-1/valid/images/98_png.rf.d7493b6c29a705edb92708655d8e8f56.jpg (deflated 1%)\n",
            "updating: content/datasetOutput/ProceduraFumettiAdaptiveThreshold-1/valid/images/17_png.rf.88731d81b5f6e590be4cc33fd7d1fec6.jpg (deflated 1%)\n",
            "updating: content/datasetOutput/ProceduraFumettiAdaptiveThreshold-1/valid/images/143_png.rf.2ee3f49a422ffc90788936ae68906ef9.jpg (deflated 2%)\n",
            "updating: content/datasetOutput/ProceduraFumettiAdaptiveThreshold-1/valid/images/178_png.rf.0dcbd27222693cdf7a51e395e52eb8d3.jpg (deflated 1%)\n",
            "updating: content/datasetOutput/ProceduraFumettiAdaptiveThreshold-1/valid/images/193_png.rf.ed4267892978bf65906a00bbb3911b0d.jpg (deflated 1%)\n",
            "updating: content/datasetOutput/ProceduraFumettiAdaptiveThreshold-1/valid/images/132_png.rf.ac3ad88e3438a7c9af56042be700bcb3.jpg (deflated 2%)\n",
            "updating: content/datasetOutput/ProceduraFumettiAdaptiveThreshold-1/valid/images/77_png.rf.7448c6a8d8e360020d8e3a58b25994ca.jpg (deflated 4%)\n",
            "updating: content/datasetOutput/ProceduraFumettiAdaptiveThreshold-1/valid/images/8_png.rf.3e25cd7a8e82fc9346cfb54aadeb0331.jpg (deflated 1%)\n",
            "updating: content/datasetOutput/ProceduraFumettiAdaptiveThreshold-1/valid/images/67_png.rf.3cd04ed8e67133368c1e23aca687d676.jpg (deflated 1%)\n",
            "updating: content/datasetOutput/ProceduraFumettiAdaptiveThreshold-1/valid/images/166_png.rf.b41f184c634cb18f313763cdacc78426.jpg (deflated 1%)\n",
            "updating: content/datasetOutput/ProceduraFumettiAdaptiveThreshold-1/valid/images/42_png.rf.ccace24dd47a0c881b36369562fd9c0e.jpg (deflated 1%)\n",
            "updating: content/datasetOutput/ProceduraFumettiAdaptiveThreshold-1/valid/images/34_png.rf.09352bc66ea761e8bad4d188b9546cc5.jpg (deflated 1%)\n",
            "updating: content/datasetOutput/ProceduraFumettiAdaptiveThreshold-1/valid/images/197_png.rf.0f790caac171d5434efcde28aa5535a2.jpg (deflated 1%)\n",
            "updating: content/datasetOutput/ProceduraFumettiAdaptiveThreshold-1/valid/images/140_png.rf.658c4824bb1d7c9130f0af2629a09587.jpg (deflated 1%)\n",
            "updating: content/datasetOutput/ProceduraFumettiAdaptiveThreshold-1/valid/images/112_png.rf.6a3c11d10c5c6e467046126d8b7638a6.jpg (deflated 3%)\n",
            "updating: content/datasetOutput/ProceduraFumettiAdaptiveThreshold-1/valid/images/157_png.rf.5b88d263bc342ae85466e2594ce91c92.jpg (deflated 2%)\n",
            "updating: content/datasetOutput/ProceduraFumettiAdaptiveThreshold-1/valid/images/27_png.rf.23fe2a40e1d16b818df814fd0ba91411.jpg (deflated 1%)\n",
            "updating: content/datasetOutput/ProceduraFumettiAdaptiveThreshold-1/valid/images/185_png.rf.2dd45c842bf457b1dc11aa7ebcdfc91f.jpg (deflated 1%)\n",
            "updating: content/datasetOutput/ProceduraFumettiAdaptiveThreshold-1/valid/images/139_png.rf.3f00f902827205bb0bbdca5a56646c75.jpg (deflated 1%)\n",
            "updating: content/datasetOutput/ProceduraFumettiAdaptiveThreshold-1/valid/images/195_png.rf.901512d782a3c9d55abf5e983bed325b.jpg (deflated 0%)\n",
            "updating: content/datasetOutput/ProceduraFumettiAdaptiveThreshold-1/valid/images/65_png.rf.fd3815eb574cc2678d0cae8c56f6787f.jpg (deflated 1%)\n",
            "updating: content/datasetOutput/ProceduraFumettiAdaptiveThreshold-1/valid/images/102_png.rf.89ba7a1bf8f4a8e022df24c6e33f3050.jpg (deflated 2%)\n",
            "updating: content/datasetOutput/ProceduraFumettiAdaptiveThreshold-1/valid/images/151_png.rf.bc4f8962212bf1e31a56351c3b277f4a.jpg (deflated 2%)\n",
            "updating: content/datasetOutput/ProceduraFumettiAdaptiveThreshold-1/valid/labels/ (stored 0%)\n",
            "updating: content/datasetOutput/ProceduraFumettiAdaptiveThreshold-1/valid/labels/8_png.rf.3e25cd7a8e82fc9346cfb54aadeb0331.txt (deflated 59%)\n",
            "updating: content/datasetOutput/ProceduraFumettiAdaptiveThreshold-1/valid/labels/65_png.rf.fd3815eb574cc2678d0cae8c56f6787f.txt (deflated 62%)\n",
            "updating: content/datasetOutput/ProceduraFumettiAdaptiveThreshold-1/valid/labels/63_png.rf.e45fd074349a69986f5ee468faa50a8d.txt (deflated 59%)\n",
            "updating: content/datasetOutput/ProceduraFumettiAdaptiveThreshold-1/valid/labels/17_png.rf.88731d81b5f6e590be4cc33fd7d1fec6.txt (deflated 60%)\n",
            "updating: content/datasetOutput/ProceduraFumettiAdaptiveThreshold-1/valid/labels/98_png.rf.d7493b6c29a705edb92708655d8e8f56.txt (deflated 58%)\n",
            "updating: content/datasetOutput/ProceduraFumettiAdaptiveThreshold-1/valid/labels/27_png.rf.23fe2a40e1d16b818df814fd0ba91411.txt (deflated 59%)\n",
            "updating: content/datasetOutput/ProceduraFumettiAdaptiveThreshold-1/valid/labels/102_png.rf.89ba7a1bf8f4a8e022df24c6e33f3050.txt (deflated 62%)\n",
            "updating: content/datasetOutput/ProceduraFumettiAdaptiveThreshold-1/valid/labels/177_png.rf.a0a342aff968c7d7c3f32ad1944d18a0.txt (deflated 59%)\n",
            "updating: content/datasetOutput/ProceduraFumettiAdaptiveThreshold-1/valid/labels/139_png.rf.3f00f902827205bb0bbdca5a56646c75.txt (deflated 58%)\n",
            "updating: content/datasetOutput/ProceduraFumettiAdaptiveThreshold-1/valid/labels/45_png.rf.bbb839f298377a1e9b46c07d777b757d.txt (deflated 58%)\n",
            "updating: content/datasetOutput/ProceduraFumettiAdaptiveThreshold-1/valid/labels/197_png.rf.0f790caac171d5434efcde28aa5535a2.txt (deflated 60%)\n",
            "updating: content/datasetOutput/ProceduraFumettiAdaptiveThreshold-1/valid/labels/60_png.rf.2b35d8e9657bafa76f9dabe7fe80cbbb.txt (deflated 58%)\n",
            "updating: content/datasetOutput/ProceduraFumettiAdaptiveThreshold-1/valid/labels/137_png.rf.f5699d608d4ec87d6ebd9eaf7033ef6b.txt (deflated 57%)\n",
            "updating: content/datasetOutput/ProceduraFumettiAdaptiveThreshold-1/valid/labels/67_png.rf.3cd04ed8e67133368c1e23aca687d676.txt (deflated 62%)\n",
            "updating: content/datasetOutput/ProceduraFumettiAdaptiveThreshold-1/valid/labels/157_png.rf.5b88d263bc342ae85466e2594ce91c92.txt (deflated 59%)\n",
            "updating: content/datasetOutput/ProceduraFumettiAdaptiveThreshold-1/valid/labels/145_png.rf.a356f2a59af1a437b7da4e481e886741.txt (deflated 59%)\n",
            "updating: content/datasetOutput/ProceduraFumettiAdaptiveThreshold-1/valid/labels/89_png.rf.473c4a5e92d80c0d699d3b1e5b16d557.txt (deflated 62%)\n",
            "updating: content/datasetOutput/ProceduraFumettiAdaptiveThreshold-1/valid/labels/93_png.rf.00cc97644a22ea55191c95ef32b213a2.txt (deflated 61%)\n",
            "updating: content/datasetOutput/ProceduraFumettiAdaptiveThreshold-1/valid/labels/103_png.rf.ab068ca6bdb60f241c64839a078a76ed.txt (deflated 63%)\n",
            "updating: content/datasetOutput/ProceduraFumettiAdaptiveThreshold-1/valid/labels/147_png.rf.9c34e9dd35a0a196d1e48752381ce846.txt (deflated 58%)\n",
            "updating: content/datasetOutput/ProceduraFumettiAdaptiveThreshold-1/valid/labels/99_png.rf.77188d1c388e220dea650aa246e432ee.txt (deflated 59%)\n",
            "updating: content/datasetOutput/ProceduraFumettiAdaptiveThreshold-1/valid/labels/189_png.rf.7fee50cc00238ce4bec6af1c4f982540.txt (deflated 58%)\n",
            "updating: content/datasetOutput/ProceduraFumettiAdaptiveThreshold-1/valid/labels/159_png.rf.f10acdf242dc20a8cd8598675c7bfe98.txt (deflated 60%)\n",
            "updating: content/datasetOutput/ProceduraFumettiAdaptiveThreshold-1/valid/labels/112_png.rf.6a3c11d10c5c6e467046126d8b7638a6.txt (deflated 59%)\n",
            "updating: content/datasetOutput/ProceduraFumettiAdaptiveThreshold-1/valid/labels/34_png.rf.09352bc66ea761e8bad4d188b9546cc5.txt (deflated 58%)\n",
            "updating: content/datasetOutput/ProceduraFumettiAdaptiveThreshold-1/valid/labels/40_png.rf.14563a5a2cdb2eb3eb657fc8d0efbe5a.txt (stored 0%)\n",
            "updating: content/datasetOutput/ProceduraFumettiAdaptiveThreshold-1/valid/labels/178_png.rf.0dcbd27222693cdf7a51e395e52eb8d3.txt (deflated 59%)\n",
            "updating: content/datasetOutput/ProceduraFumettiAdaptiveThreshold-1/valid/labels/132_png.rf.ac3ad88e3438a7c9af56042be700bcb3.txt (deflated 58%)\n",
            "updating: content/datasetOutput/ProceduraFumettiAdaptiveThreshold-1/valid/labels/42_png.rf.ccace24dd47a0c881b36369562fd9c0e.txt (deflated 59%)\n",
            "updating: content/datasetOutput/ProceduraFumettiAdaptiveThreshold-1/valid/labels/118_png.rf.f16596871431f4496920d61ac0437909.txt (deflated 58%)\n",
            "updating: content/datasetOutput/ProceduraFumettiAdaptiveThreshold-1/valid/labels/86_png.rf.39645522521270e9601317bb6005a86d.txt (deflated 58%)\n",
            "updating: content/datasetOutput/ProceduraFumettiAdaptiveThreshold-1/valid/labels/193_png.rf.ed4267892978bf65906a00bbb3911b0d.txt (deflated 58%)\n",
            "updating: content/datasetOutput/ProceduraFumettiAdaptiveThreshold-1/valid/labels/140_png.rf.658c4824bb1d7c9130f0af2629a09587.txt (deflated 60%)\n",
            "updating: content/datasetOutput/ProceduraFumettiAdaptiveThreshold-1/valid/labels/151_png.rf.bc4f8962212bf1e31a56351c3b277f4a.txt (deflated 59%)\n",
            "updating: content/datasetOutput/ProceduraFumettiAdaptiveThreshold-1/valid/labels/195_png.rf.901512d782a3c9d55abf5e983bed325b.txt (deflated 58%)\n",
            "updating: content/datasetOutput/ProceduraFumettiAdaptiveThreshold-1/valid/labels/143_png.rf.2ee3f49a422ffc90788936ae68906ef9.txt (deflated 60%)\n",
            "updating: content/datasetOutput/ProceduraFumettiAdaptiveThreshold-1/valid/labels/185_png.rf.2dd45c842bf457b1dc11aa7ebcdfc91f.txt (deflated 57%)\n",
            "updating: content/datasetOutput/ProceduraFumettiAdaptiveThreshold-1/valid/labels/167_png.rf.91d2bb511bcb99bb3e89375289401c4c.txt (deflated 61%)\n",
            "updating: content/datasetOutput/ProceduraFumettiAdaptiveThreshold-1/valid/labels/166_png.rf.b41f184c634cb18f313763cdacc78426.txt (deflated 59%)\n",
            "updating: content/datasetOutput/ProceduraFumettiAdaptiveThreshold-1/valid/labels/77_png.rf.7448c6a8d8e360020d8e3a58b25994ca.txt (deflated 63%)\n"
          ]
        }
      ]
    },
    {
      "cell_type": "code",
      "source": [
        "#scarico la cartella\n",
        "files.download(\"/datasetOutput.zip\")"
      ],
      "metadata": {
        "colab": {
          "base_uri": "https://localhost:8080/",
          "height": 17
        },
        "id": "TqQaMr6IlQQy",
        "outputId": "a39cf051-df7e-421d-9277-4fbb4a5fdd8b"
      },
      "execution_count": null,
      "outputs": [
        {
          "output_type": "display_data",
          "data": {
            "text/plain": [
              "<IPython.core.display.Javascript object>"
            ],
            "application/javascript": [
              "\n",
              "    async function download(id, filename, size) {\n",
              "      if (!google.colab.kernel.accessAllowed) {\n",
              "        return;\n",
              "      }\n",
              "      const div = document.createElement('div');\n",
              "      const label = document.createElement('label');\n",
              "      label.textContent = `Downloading \"${filename}\": `;\n",
              "      div.appendChild(label);\n",
              "      const progress = document.createElement('progress');\n",
              "      progress.max = size;\n",
              "      div.appendChild(progress);\n",
              "      document.body.appendChild(div);\n",
              "\n",
              "      const buffers = [];\n",
              "      let downloaded = 0;\n",
              "\n",
              "      const channel = await google.colab.kernel.comms.open(id);\n",
              "      // Send a message to notify the kernel that we're ready.\n",
              "      channel.send({})\n",
              "\n",
              "      for await (const message of channel.messages) {\n",
              "        // Send a message to notify the kernel that we're ready.\n",
              "        channel.send({})\n",
              "        if (message.buffers) {\n",
              "          for (const buffer of message.buffers) {\n",
              "            buffers.push(buffer);\n",
              "            downloaded += buffer.byteLength;\n",
              "            progress.value = downloaded;\n",
              "          }\n",
              "        }\n",
              "      }\n",
              "      const blob = new Blob(buffers, {type: 'application/binary'});\n",
              "      const a = document.createElement('a');\n",
              "      a.href = window.URL.createObjectURL(blob);\n",
              "      a.download = filename;\n",
              "      div.appendChild(a);\n",
              "      a.click();\n",
              "      div.remove();\n",
              "    }\n",
              "  "
            ]
          },
          "metadata": {}
        },
        {
          "output_type": "display_data",
          "data": {
            "text/plain": [
              "<IPython.core.display.Javascript object>"
            ],
            "application/javascript": [
              "download(\"download_37ebc3e7-fffd-45ef-8459-f75f3bad965b\", \"datasetOutput.zip\", 6860454)"
            ]
          },
          "metadata": {}
        }
      ]
    }
  ]
}